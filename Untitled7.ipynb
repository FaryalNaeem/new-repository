{
 "cells": [
  {
   "cell_type": "code",
   "execution_count": 17,
   "metadata": {},
   "outputs": [],
   "source": [
    "cities = ['lahore', 'karachi', 'quetta', 'swat']\n"
   ]
  },
  {
   "cell_type": "code",
   "execution_count": 4,
   "metadata": {},
   "outputs": [
    {
     "name": "stdout",
     "output_type": "stream",
     "text": [
      "karachi\n"
     ]
    }
   ],
   "source": [
    "get_city= cities[1]\n",
    "print(get_city)"
   ]
  },
  {
   "cell_type": "code",
   "execution_count": 5,
   "metadata": {},
   "outputs": [
    {
     "name": "stdout",
     "output_type": "stream",
     "text": [
      "karachi\n"
     ]
    }
   ],
   "source": [
    "print('karachi')"
   ]
  },
  {
   "cell_type": "code",
   "execution_count": 3,
   "metadata": {},
   "outputs": [
    {
     "name": "stdout",
     "output_type": "stream",
     "text": [
      "happy 23rd birthday\n"
     ]
    }
   ],
   "source": [
    "age = 23\n",
    "print('happy ' + str(age) + 'rd birthday')"
   ]
  },
  {
   "cell_type": "code",
   "execution_count": 18,
   "metadata": {},
   "outputs": [],
   "source": [
    "del cities[3]\n"
   ]
  },
  {
   "cell_type": "code",
   "execution_count": 19,
   "metadata": {},
   "outputs": [
    {
     "data": {
      "text/plain": [
       "['lahore', 'karachi', 'quetta']"
      ]
     },
     "execution_count": 19,
     "metadata": {},
     "output_type": "execute_result"
    }
   ],
   "source": [
    "cities"
   ]
  },
  {
   "cell_type": "code",
   "execution_count": null,
   "metadata": {},
   "outputs": [],
   "source": []
  },
  {
   "cell_type": "markdown",
   "metadata": {},
   "source": [
    "# PRACTICE OF LISTS"
   ]
  },
  {
   "cell_type": "code",
   "execution_count": 32,
   "metadata": {},
   "outputs": [
    {
     "name": "stdout",
     "output_type": "stream",
     "text": [
      "ajaz you are invited to my party\n",
      "bisma you are invited to my party\n",
      "rabia you are invited to my party\n",
      "zainab you are invited to my party\n",
      "shahbaz you are invited to my party\n"
     ]
    }
   ],
   "source": [
    "guest_list = ['ajaz', 'bisma', 'rabia', 'zainab', 'shahbaz']\n",
    "for i in guest_list:\n",
    "    print(i +' you are invited to my party')"
   ]
  },
  {
   "cell_type": "code",
   "execution_count": 33,
   "metadata": {},
   "outputs": [
    {
     "name": "stdout",
     "output_type": "stream",
     "text": [
      "zainab is not going to join us\n"
     ]
    }
   ],
   "source": [
    "print('zainab is not going to join us')\n",
    "guest_list[3] = 'ali'"
   ]
  },
  {
   "cell_type": "code",
   "execution_count": 34,
   "metadata": {},
   "outputs": [
    {
     "data": {
      "text/plain": [
       "['ajaz', 'bisma', 'rabia', 'ali', 'shahbaz']"
      ]
     },
     "execution_count": 34,
     "metadata": {},
     "output_type": "execute_result"
    }
   ],
   "source": [
    "\n",
    "guest_list"
   ]
  },
  {
   "cell_type": "code",
   "execution_count": 35,
   "metadata": {},
   "outputs": [
    {
     "name": "stdout",
     "output_type": "stream",
     "text": [
      "ajaz you are invited to my party\n",
      "bisma you are invited to my party\n",
      "rabia you are invited to my party\n",
      "ali you are invited to my party\n",
      "shahbaz you are invited to my party\n"
     ]
    }
   ],
   "source": [
    "for i in guest_list:\n",
    "    print(i +' you are invited to my party')"
   ]
  },
  {
   "cell_type": "code",
   "execution_count": 36,
   "metadata": {},
   "outputs": [],
   "source": [
    "guest_list.insert(0,'Ms kauser')\n",
    "guest_list.insert(3,'Mr Naeem')\n"
   ]
  },
  {
   "cell_type": "code",
   "execution_count": 37,
   "metadata": {},
   "outputs": [],
   "source": [
    "guest_list.append('dadi ammi')"
   ]
  },
  {
   "cell_type": "code",
   "execution_count": 38,
   "metadata": {},
   "outputs": [
    {
     "name": "stdout",
     "output_type": "stream",
     "text": [
      "['Ms kauser', 'ajaz', 'bisma', 'Mr Naeem', 'rabia', 'ali', 'shahbaz', 'dadi ammi']\n"
     ]
    }
   ],
   "source": [
    "print(guest_list)"
   ]
  },
  {
   "cell_type": "code",
   "execution_count": 39,
   "metadata": {},
   "outputs": [
    {
     "name": "stdout",
     "output_type": "stream",
     "text": [
      "Ms kauser you are invited\n",
      "Mr Naeem you are invited\n",
      "dadi ammi you are invited\n"
     ]
    }
   ],
   "source": [
    "print(guest_list[0]+ ' you are invited')\n",
    "print(guest_list[3]+ ' you are invited')\n",
    "print(guest_list[7]+ ' you are invited')\n"
   ]
  },
  {
   "cell_type": "code",
   "execution_count": 47,
   "metadata": {},
   "outputs": [
    {
     "name": "stdout",
     "output_type": "stream",
     "text": [
      "I am invoting only two people\n"
     ]
    }
   ],
   "source": [
    "print('I am invoting only two people')\n",
    "a=guest_list.pop()\n"
   ]
  },
  {
   "cell_type": "code",
   "execution_count": 42,
   "metadata": {},
   "outputs": [
    {
     "name": "stdout",
     "output_type": "stream",
     "text": [
      "shahbaz you are not invited\n"
     ]
    }
   ],
   "source": [
    "print(a + ' you are not invited')"
   ]
  },
  {
   "cell_type": "code",
   "execution_count": 45,
   "metadata": {},
   "outputs": [
    {
     "name": "stdout",
     "output_type": "stream",
     "text": [
      "rabia you are not invited\n"
     ]
    }
   ],
   "source": [
    "print(a + ' you are not invited')"
   ]
  },
  {
   "cell_type": "code",
   "execution_count": 46,
   "metadata": {},
   "outputs": [
    {
     "name": "stdout",
     "output_type": "stream",
     "text": [
      "rabia you are not invited\n"
     ]
    }
   ],
   "source": [
    "print(a + ' you are not invited')"
   ]
  },
  {
   "cell_type": "code",
   "execution_count": 48,
   "metadata": {},
   "outputs": [
    {
     "name": "stdout",
     "output_type": "stream",
     "text": [
      "Mr Naeem you are not invited\n"
     ]
    }
   ],
   "source": [
    "print(a + ' you are not invited')"
   ]
  },
  {
   "cell_type": "code",
   "execution_count": 49,
   "metadata": {},
   "outputs": [],
   "source": [
    "del guest_list[0]"
   ]
  },
  {
   "cell_type": "code",
   "execution_count": 50,
   "metadata": {},
   "outputs": [],
   "source": [
    "del guest_list[0]"
   ]
  },
  {
   "cell_type": "code",
   "execution_count": 51,
   "metadata": {},
   "outputs": [],
   "source": [
    "del guest_list[0]"
   ]
  },
  {
   "cell_type": "code",
   "execution_count": 52,
   "metadata": {},
   "outputs": [
    {
     "data": {
      "text/plain": [
       "[]"
      ]
     },
     "execution_count": 52,
     "metadata": {},
     "output_type": "execute_result"
    }
   ],
   "source": [
    "guest_list"
   ]
  },
  {
   "cell_type": "code",
   "execution_count": 1,
   "metadata": {},
   "outputs": [],
   "source": [
    "alphabets= ['a', 'b', 'c', 'd']"
   ]
  },
  {
   "cell_type": "code",
   "execution_count": 2,
   "metadata": {},
   "outputs": [],
   "source": [
    "a = alphabets[-1]"
   ]
  },
  {
   "cell_type": "code",
   "execution_count": 3,
   "metadata": {},
   "outputs": [
    {
     "data": {
      "text/plain": [
       "'d'"
      ]
     },
     "execution_count": 3,
     "metadata": {},
     "output_type": "execute_result"
    }
   ],
   "source": [
    "a"
   ]
  },
  {
   "cell_type": "code",
   "execution_count": 20,
   "metadata": {},
   "outputs": [],
   "source": [
    "guest_lists = ['ajaz', 'bisma', 'rabia', 'ali', 'shahbaz']"
   ]
  },
  {
   "cell_type": "code",
   "execution_count": 22,
   "metadata": {},
   "outputs": [
    {
     "name": "stdout",
     "output_type": "stream",
     "text": [
      "['ajaz', 'ali', 'bisma', 'rabia', 'shahbaz']\n"
     ]
    }
   ],
   "source": [
    "\n",
    "print(sorted(guest_lists))"
   ]
  },
  {
   "cell_type": "code",
   "execution_count": 23,
   "metadata": {},
   "outputs": [
    {
     "data": {
      "text/plain": [
       "['ajaz', 'bisma', 'rabia', 'ali', 'shahbaz']"
      ]
     },
     "execution_count": 23,
     "metadata": {},
     "output_type": "execute_result"
    }
   ],
   "source": [
    "guest_lists"
   ]
  },
  {
   "cell_type": "code",
   "execution_count": 32,
   "metadata": {},
   "outputs": [
    {
     "name": "stdout",
     "output_type": "stream",
     "text": [
      "ajaz\n",
      "bisma\n",
      "rabia\n",
      "ali\n",
      "shahbaz\n",
      "hello every one\n"
     ]
    }
   ],
   "source": [
    "for guest in guest_lists:\n",
    "    print(guest)\n",
    "print('hello every one')"
   ]
  },
  {
   "cell_type": "code",
   "execution_count": 50,
   "metadata": {},
   "outputs": [
    {
     "name": "stdout",
     "output_type": "stream",
     "text": [
      "[1]\n",
      "[1, 9]\n",
      "[1, 9, 25]\n",
      "[1, 9, 25, 49]\n",
      "[1, 9, 25, 49, 81]\n"
     ]
    }
   ],
   "source": [
    "squares = []\n",
    "for i in range(1,10,2):\n",
    "    squares.append(i**2)\n",
    "    print(squares)"
   ]
  },
  {
   "cell_type": "code",
   "execution_count": 71,
   "metadata": {},
   "outputs": [
    {
     "name": "stdout",
     "output_type": "stream",
     "text": [
      "[1, 1, 9, 9, 25, 25, 49, 49, 81, 81]\n"
     ]
    }
   ],
   "source": [
    "squares = [value**2 for value in range(1,10,2) for i in range(0,2)]\n",
    "print(squares)"
   ]
  },
  {
   "cell_type": "code",
   "execution_count": 77,
   "metadata": {},
   "outputs": [
    {
     "name": "stdout",
     "output_type": "stream",
     "text": [
      "[1, 3, 5, 7, 9, 11, 13, 15, 17, 19]\n"
     ]
    }
   ],
   "source": [
    "a=[]\n",
    "for i in range(1,21,2):\n",
    "    a.append(i)\n",
    "print(a)\n",
    "\n"
   ]
  },
  {
   "cell_type": "code",
   "execution_count": 88,
   "metadata": {},
   "outputs": [
    {
     "name": "stdout",
     "output_type": "stream",
     "text": [
      "7\n",
      "11\n",
      "15\n",
      "19\n",
      "23\n",
      "27\n",
      "31\n",
      "35\n",
      "39\n",
      "43\n"
     ]
    }
   ],
   "source": [
    "for i in range(1,11):\n",
    "    print(f'3*)\n",
    "    "
   ]
  },
  {
   "cell_type": "code",
   "execution_count": 1,
   "metadata": {},
   "outputs": [
    {
     "data": {
      "text/plain": [
       "['amna', 'ali', 'sana']"
      ]
     },
     "execution_count": 1,
     "metadata": {},
     "output_type": "execute_result"
    }
   ],
   "source": [
    "a= ['amna', 'ali', 'sana', 'saba', 'naeem']\n",
    "a[0:3]"
   ]
  },
  {
   "cell_type": "code",
   "execution_count": 29,
   "metadata": {},
   "outputs": [
    {
     "data": {
      "text/plain": [
       "['amna', 'ali', 'sana', 'saba', 'naeem']"
      ]
     },
     "execution_count": 29,
     "metadata": {},
     "output_type": "execute_result"
    }
   ],
   "source": [
    "a[:]"
   ]
  },
  {
   "cell_type": "markdown",
   "metadata": {},
   "source": [
    "# practice functons"
   ]
  },
  {
   "cell_type": "code",
   "execution_count": 29,
   "metadata": {},
   "outputs": [],
   "source": [
    "def make_tshirt(size='medium' ,message='I love python'):\n",
    "    print(f'The size of shirt is {size} with message {message}')"
   ]
  },
  {
   "cell_type": "code",
   "execution_count": 30,
   "metadata": {},
   "outputs": [
    {
     "name": "stdout",
     "output_type": "stream",
     "text": [
      "The size of shirt is medium with message I love python\n"
     ]
    }
   ],
   "source": [
    "make_tshirt()"
   ]
  },
  {
   "cell_type": "code",
   "execution_count": 31,
   "metadata": {},
   "outputs": [
    {
     "name": "stdout",
     "output_type": "stream",
     "text": [
      "The size of shirt is large with message hello world\n"
     ]
    }
   ],
   "source": [
    "make_tshirt(size='large',message='hello world')"
   ]
  },
  {
   "cell_type": "code",
   "execution_count": 1,
   "metadata": {},
   "outputs": [],
   "source": [
    "def get_formattedname(f_name, l_name):\n",
    "    full_name= f_name + ' ' + l_name\n",
    "    return full_name.title()\n"
   ]
  },
  {
   "cell_type": "code",
   "execution_count": 2,
   "metadata": {},
   "outputs": [
    {
     "data": {
      "text/plain": [
       "'Ali Aslam'"
      ]
     },
     "execution_count": 2,
     "metadata": {},
     "output_type": "execute_result"
    }
   ],
   "source": [
    "get_formattedname('ali', 'aslam')"
   ]
  },
  {
   "cell_type": "code",
   "execution_count": 9,
   "metadata": {},
   "outputs": [
    {
     "name": "stdout",
     "output_type": "stream",
     "text": [
      "{'first': 'Ali', 'last': 'Aslam', 'age': 23}\n"
     ]
    }
   ],
   "source": [
    "def user_data(first_name,last_name,age=''):\n",
    "    person= {'first':first_name, 'last':last_name}\n",
    "    if age:\n",
    "        person['age'] = age\n",
    "    return person \n",
    "info = user_data('Ali', 'Aslam', 23)\n",
    "print(info)"
   ]
  },
  {
   "cell_type": "code",
   "execution_count": 3,
   "metadata": {},
   "outputs": [
    {
     "name": "stdout",
     "output_type": "stream",
     "text": [
      "\n",
      "Enter your names\n",
      "please enter q to quit\n",
      "Enterfaryal\n",
      "Enternaeem\n",
      "HiFaryal Naeem\n",
      "\n",
      "Enter your names\n",
      "please enter q to quit\n",
      "Enterbisma\n",
      "Enternaeem\n",
      "HiBisma Naeem\n",
      "\n",
      "Enter your names\n",
      "please enter q to quit\n",
      "Enterjj\n",
      "Enterq\n"
     ]
    }
   ],
   "source": [
    "def get_formattedname(f_name, l_name):\n",
    "    full_name= f_name + ' ' + l_name\n",
    "    return full_name.title()\n",
    "while True:\n",
    "    print('\\nEnter your names')\n",
    "    print('please enter q to quit')\n",
    "    fname = input('Enter')\n",
    "    if fname == 'q':\n",
    "        break\n",
    "    lname = input('Enter')\n",
    "    if lname == 'q':\n",
    "        break\n",
    "\n",
    "    formattedname= get_formattedname(fname,lname)\n",
    "    print('Hi' + formattedname)\n"
   ]
  },
  {
   "cell_type": "code",
   "execution_count": 4,
   "metadata": {},
   "outputs": [],
   "source": [
    "# Q 2 pg 179"
   ]
  },
  {
   "cell_type": "code",
   "execution_count": 25,
   "metadata": {},
   "outputs": [
    {
     "name": "stdout",
     "output_type": "stream",
     "text": [
      "{'artist_name': 'Atif', 'song_name': 'dosti'}\n",
      "{'artist_name': 'Auj', 'song_name': 'sagar'}\n",
      "{'artist_name': 'string', 'song_name': 'uran'}\n",
      "{'artist_name': 'khoj', 'song_name': 'dil se', 'num_of_tracks': 3}\n"
     ]
    }
   ],
   "source": [
    "def make_album(artistname, album_title,number=''):\n",
    "    album_desc = {'artist_name' : artistname, 'song_name': album_title}\n",
    "    if number:\n",
    "        album_desc['num_of_tracks'] = number\n",
    "    return album_desc\n",
    "a= make_album('Atif', 'dosti')\n",
    "print(a)\n",
    "b= make_album('Auj' ,'sagar')\n",
    "print(b)\n",
    "c= make_album('string', 'uran')\n",
    "print(c)\n",
    "d=make_album('khoj', 'dil se', 3)\n",
    "print(d)"
   ]
  },
  {
   "cell_type": "code",
   "execution_count": 6,
   "metadata": {},
   "outputs": [
    {
     "name": "stdout",
     "output_type": "stream",
     "text": [
      "printing mpdel : dodecahedron\n",
      "printing mpdel : pendant\n",
      "printing mpdel : iphone case\n",
      "\n",
      "The following models are completed\n",
      "dodecahedron\n",
      "pendant\n",
      "iphone case\n"
     ]
    }
   ],
   "source": [
    "unprinted_design = ['iphone case', 'pendant', 'dodecahedron']\n",
    "completed_models = []\n",
    "while unprinted_design:\n",
    "    current_design = unprinted_design.pop()\n",
    "    print('printing mpdel : ' + current_design)\n",
    "    completed_models.append(current_design)\n",
    "print('\\nThe following models are completed')\n",
    "for completed_model in completed_models:\n",
    "    print(completed_model)"
   ]
  },
  {
   "cell_type": "code",
   "execution_count": null,
   "metadata": {},
   "outputs": [],
   "source": []
  }
 ],
 "metadata": {
  "kernelspec": {
   "display_name": "Python 3",
   "language": "python",
   "name": "python3"
  },
  "language_info": {
   "codemirror_mode": {
    "name": "ipython",
    "version": 3
   },
   "file_extension": ".py",
   "mimetype": "text/x-python",
   "name": "python",
   "nbconvert_exporter": "python",
   "pygments_lexer": "ipython3",
   "version": "3.7.3"
  }
 },
 "nbformat": 4,
 "nbformat_minor": 2
}
