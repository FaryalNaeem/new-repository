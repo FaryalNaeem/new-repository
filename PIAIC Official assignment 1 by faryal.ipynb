{
 "cells": [
  {
   "cell_type": "markdown",
   "metadata": {},
   "source": [
    "## 1. Calculate Area of a Circle"
   ]
  },
  {
   "cell_type": "markdown",
   "metadata": {},
   "source": [
    "#### Write a Python program which accepts the radius of a circle from the user and compute the area.\n",
    "###### Program Console Sample Output 1:\n",
    "###### Input Radius: 0.5\n",
    "###### Area of Circle with radius 0.5 is 0.7853981634"
   ]
  },
  {
   "cell_type": "code",
   "execution_count": 62,
   "metadata": {},
   "outputs": [
    {
     "name": "stdout",
     "output_type": "stream",
     "text": [
      "Enter your value for radius of circle:0.5\n",
      "Area of circle with radius 0.5 is 0.7853981633974483.\n"
     ]
    }
   ],
   "source": [
    "import math\n",
    "r= float(input('Enter your value for radius of circle:'))\n",
    "Area=math.pi*r**2\n",
    "print(f\"Area of circle with radius 0.5 is {Area}.\")\n"
   ]
  },
  {
   "cell_type": "markdown",
   "metadata": {},
   "source": [
    "## 2. Check Number either positive, negative or zero"
   ]
  },
  {
   "cell_type": "markdown",
   "metadata": {},
   "source": [
    "#### Write a Python program to check if a number is positive, negative or zero\n",
    "###### Program Console Sample Output 1:\n",
    "###### Enter Number: -1\n",
    "##### Negative Number Entered\n",
    "###### Program Console Sample Output 2:\n",
    "##### Integer: 3\n",
    "##### Positive Number Entered\n",
    "###### Program Console Sample Output 3:\n",
    "##### Integer: 0\n",
    "###### Zero Entered"
   ]
  },
  {
   "cell_type": "code",
   "execution_count": 53,
   "metadata": {},
   "outputs": [
    {
     "name": "stdout",
     "output_type": "stream",
     "text": [
      "Enter Number:-1\n",
      "negative number entered\n"
     ]
    }
   ],
   "source": [
    "num = int(input('Enter Number:'))\n",
    "if num > 0:\n",
    "    print('positive number entered')\n",
    "elif num < 0:\n",
    "    print('negative number entered')\n",
    "else:\n",
    "    print('zero entered')\n"
   ]
  },
  {
   "cell_type": "code",
   "execution_count": 54,
   "metadata": {},
   "outputs": [
    {
     "name": "stdout",
     "output_type": "stream",
     "text": [
      "Enter Number:2\n",
      "positive number entered\n"
     ]
    }
   ],
   "source": [
    "num = int(input('Enter Number:'))\n",
    "if num > 0:\n",
    "    print('positive number entered')\n",
    "elif num < 0:\n",
    "    print('negative number entered')\n",
    "else:\n",
    "    print('zero entered')"
   ]
  },
  {
   "cell_type": "code",
   "execution_count": 55,
   "metadata": {},
   "outputs": [
    {
     "name": "stdout",
     "output_type": "stream",
     "text": [
      "Enter Number:0\n",
      "zero entered\n"
     ]
    }
   ],
   "source": [
    "num = int(input('Enter Number:'))\n",
    "if num > 0:\n",
    "    print('positive number entered')\n",
    "elif num < 0:\n",
    "    print('negative number entered')\n",
    "else:\n",
    "    print('zero entered')"
   ]
  },
  {
   "cell_type": "code",
   "execution_count": null,
   "metadata": {},
   "outputs": [],
   "source": []
  },
  {
   "cell_type": "markdown",
   "metadata": {},
   "source": [
    "## 3. Divisibility Check of two numbers"
   ]
  },
  {
   "cell_type": "markdown",
   "metadata": {},
   "source": [
    "#### Write a Python program to check whether a number is completely divisible by another number. Accept two integer values form the user\n",
    "##### Program Console Sample Output 1:\n",
    "###### Enter numerator: 4\n",
    "###### Enter Denominator: 2\n",
    "##### Number 4 is Completely divisible by 2\n",
    "###### Program Console Sample Output 2:\n",
    "##### Enter numerator: 7\n",
    "\n",
    "##### Enter Denominator: 4\n",
    "###### Number 7 is not Completely divisible by 4"
   ]
  },
  {
   "cell_type": "code",
   "execution_count": 66,
   "metadata": {},
   "outputs": [
    {
     "name": "stdout",
     "output_type": "stream",
     "text": [
      "Enter numerator:9\n",
      "Enter denominator3\n",
      "9 is completely divisble by 3.\n"
     ]
    }
   ],
   "source": [
    "num1= int(input(\"Enter numerator:\"))\n",
    "num2= int(input(\"Enter denominator\"))\n",
    "ans=num1%num2\n",
    "if ans == 0:\n",
    "    print(f'{num1} is completely divisble by {num2}.')\n",
    "else:\n",
    "    print(f'{num1} is not completely  divisble by {num2}.')\n",
    "          \n"
   ]
  },
  {
   "cell_type": "code",
   "execution_count": 67,
   "metadata": {},
   "outputs": [
    {
     "name": "stdout",
     "output_type": "stream",
     "text": [
      "Enter numerator:7\n",
      "Enter denominator3\n",
      "7 is not completely divisble by 3.\n"
     ]
    }
   ],
   "source": [
    "num1= int(input(\"Enter numerator:\"))\n",
    "num2= int(input(\"Enter denominator\"))\n",
    "ans=num1%num2\n",
    "if ans == 0:\n",
    "    print(f'{num1} is completely divisble by {num2}.')\n",
    "else:\n",
    "    print(f'{num1} is not completely divisble by {num2}.')"
   ]
  },
  {
   "cell_type": "code",
   "execution_count": null,
   "metadata": {},
   "outputs": [],
   "source": []
  },
  {
   "cell_type": "markdown",
   "metadata": {},
   "source": [
    "## 4. Calculate Volume of a sphere"
   ]
  },
  {
   "cell_type": "markdown",
   "metadata": {},
   "source": [
    "##### Write a Python program to get the volume of a sphere, please take the radius as input from user"
   ]
  },
  {
   "cell_type": "markdown",
   "metadata": {},
   "source": [
    "##### Program Console Output:\n",
    "##### Enter Radius of Sphere: 1\n",
    "###### Volume of the Sphere with Radius 1 is 4.18"
   ]
  },
  {
   "cell_type": "code",
   "execution_count": 3,
   "metadata": {},
   "outputs": [
    {
     "name": "stdout",
     "output_type": "stream",
     "text": [
      "Enter radius of sphere:1\n",
      "Volume of sphere is with radius 1 is 3.141592653589793.\n"
     ]
    }
   ],
   "source": [
    "import math\n",
    "vol=int(input(\"Enter radius of sphere:\"))\n",
    "volume=math.pi*vol**3\n",
    "print(f'Volume of sphere is with radius {vol} is {volume}.')"
   ]
  },
  {
   "cell_type": "code",
   "execution_count": null,
   "metadata": {},
   "outputs": [],
   "source": []
  },
  {
   "cell_type": "code",
   "execution_count": null,
   "metadata": {},
   "outputs": [],
   "source": []
  },
  {
   "cell_type": "markdown",
   "metadata": {},
   "source": [
    "## 5. Copy string n times\n",
    "#### Write a Python program to get a string which is n (non-negative integer) copies of a given string.\n",
    "##### Program Console Output:\n",
    "##### Enter String: Hi\n",
    "###### How many copies of String you need: 4\n",
    "###### 4 Copies of Hi are HiHiHiHi"
   ]
  },
  {
   "cell_type": "code",
   "execution_count": 2,
   "metadata": {},
   "outputs": [
    {
     "name": "stdout",
     "output_type": "stream",
     "text": [
      "Enter String:Hi\n",
      "How many copies of String do you need:4\n",
      "4 copies of Hi are HiHiHiHi\n"
     ]
    }
   ],
   "source": [
    "st = input(\"Enter String:\")\n",
    "n=int(input('How many copies of String do you need:'))\n",
    "print(f'{n} copies of {st} are', st*n)"
   ]
  },
  {
   "cell_type": "markdown",
   "metadata": {},
   "source": [
    "## 6. Check if number is Even or Odd\n",
    "### Write a Python program to find whether a given number (accept from the user) is even or odd, print out an appropriate message to the user\n",
    "#### Program Console Output 1:\n",
    "##### Enter Number: 4\n",
    "###### 4 is Even\n",
    "#### Program Console Output 2:\n",
    "##### Enter Number: 9\n",
    "###### 9 is Odd"
   ]
  },
  {
   "cell_type": "code",
   "execution_count": 5,
   "metadata": {},
   "outputs": [
    {
     "name": "stdout",
     "output_type": "stream",
     "text": [
      "Enter number:0\n",
      "0 is even\n"
     ]
    }
   ],
   "source": [
    "num=int(input(\"Enter number:\"))\n",
    "ans=num%2\n",
    "if ans==0:\n",
    "    print(f'{num} is even')\n",
    "else:\n",
    "    print(f'{num} is odd')"
   ]
  },
  {
   "cell_type": "code",
   "execution_count": 6,
   "metadata": {},
   "outputs": [
    {
     "name": "stdout",
     "output_type": "stream",
     "text": [
      "Enter number:3\n",
      "3 is odd\n"
     ]
    }
   ],
   "source": [
    "num=int(input(\"Enter number:\"))\n",
    "ans=num%2\n",
    "if ans==0:\n",
    "    print(f'{num} is even')\n",
    "else:\n",
    "    print(f'{num} is odd')"
   ]
  },
  {
   "cell_type": "code",
   "execution_count": null,
   "metadata": {},
   "outputs": [],
   "source": []
  },
  {
   "cell_type": "code",
   "execution_count": null,
   "metadata": {},
   "outputs": [],
   "source": []
  },
  {
   "cell_type": "code",
   "execution_count": null,
   "metadata": {},
   "outputs": [],
   "source": []
  },
  {
   "cell_type": "markdown",
   "metadata": {},
   "source": [
    "## 7. Vowel Tester\n",
    "### Write a Python program to test whether a passed letter is a vowel or not\n",
    "#### Program Console Output 1:\n",
    "##### Enter a character: A\n",
    "###### Letter A is Vowel\n",
    "#### Program Console Output 2:\n",
    "##### Enter a character: e\n",
    "###### Letter e is Vowel\n",
    "#### Program Console Output 2:\n",
    "##### Enter a character: N\n",
    "###### Letter N is not Vowel"
   ]
  },
  {
   "cell_type": "code",
   "execution_count": 12,
   "metadata": {},
   "outputs": [
    {
     "name": "stdout",
     "output_type": "stream",
     "text": [
      "Enter a character:A\n",
      "A is vowel\n"
     ]
    }
   ],
   "source": [
    "vowels = ['A', 'E', 'I', 'O', 'U', 'a', 'e', 'i', 'o', 'u' ]\n",
    "user=input('Enter a character:')\n",
    "if user in vowels:\n",
    "    print(f'{user} is vowel')\n",
    "else:\n",
    "    print(f'{user} is not vowel')"
   ]
  },
  {
   "cell_type": "code",
   "execution_count": 13,
   "metadata": {},
   "outputs": [
    {
     "name": "stdout",
     "output_type": "stream",
     "text": [
      "Enter a character:a\n",
      "a is vowel\n"
     ]
    }
   ],
   "source": [
    "vowels = ['A', 'E', 'I', 'O', 'U', 'a', 'e', 'i', 'o', 'u' ]\n",
    "user=input('Enter a character:')\n",
    "if user in vowels:\n",
    "    print(f'{user} is vowel')\n",
    "else:\n",
    "    print(f'{user} is not vowel')"
   ]
  },
  {
   "cell_type": "code",
   "execution_count": 14,
   "metadata": {},
   "outputs": [
    {
     "name": "stdout",
     "output_type": "stream",
     "text": [
      "Enter a character:D\n",
      "D is not vowel\n"
     ]
    }
   ],
   "source": [
    "vowels = ['A', 'E', 'I', 'O', 'U', 'a', 'e', 'i', 'o', 'u' ]\n",
    "user=input('Enter a character:')\n",
    "if user in vowels:\n",
    "    print(f'{user} is vowel')\n",
    "else:\n",
    "    print(f'{user} is not vowel')"
   ]
  },
  {
   "cell_type": "code",
   "execution_count": null,
   "metadata": {},
   "outputs": [],
   "source": []
  },
  {
   "cell_type": "markdown",
   "metadata": {},
   "source": [
    "## 8. Triangle area\n",
    "### Write a Python program that will accept the base and height of a triangle and compute the area\n",
    "###### Reference:\n",
    "https://www.mathgoodies.com/lessons/vol1/area_triangle"
   ]
  },
  {
   "cell_type": "code",
   "execution_count": 2,
   "metadata": {},
   "outputs": [
    {
     "name": "stdout",
     "output_type": "stream",
     "text": [
      "Enter height:4\n",
      "Enter base:3\n",
      "The area of triangle whose  height is 4 and base is 3 is  6\n"
     ]
    }
   ],
   "source": [
    "height= int(input('Enter height:'))\n",
    "base= int(input('Enter base:'))\n",
    "print(f'The area of triangle whose  height is {height} and base is {base} is ',int((base*height)/2))"
   ]
  },
  {
   "cell_type": "markdown",
   "metadata": {},
   "source": [
    "## 9. Calculate Interest\n",
    "### Write a Python program to compute the future value of a specified principal amount, rate of interest, and a number of years\n",
    "#### Program Console Sample 1:\n",
    "##### Please enter principal amount: 10000\n",
    "###### Please Enter Rate of interest in %: 0.1\n",
    "###### Enter number of years for investment: 5\n",
    "###### After 5 years your principal amount 10000 over an interest rate of 0.1 % will be 16105.1"
   ]
  },
  {
   "cell_type": "code",
   "execution_count": null,
   "metadata": {},
   "outputs": [],
   "source": []
  },
  {
   "cell_type": "code",
   "execution_count": 3,
   "metadata": {},
   "outputs": [
    {
     "name": "stdout",
     "output_type": "stream",
     "text": [
      "Enter principal amount:10000\n",
      "PLease enter Rate of interest:0.1\n",
      "Enter number of years for investment:5\n",
      "After5 years your principal amount 10000 over an interst rate 0.1 % will be  16105.100000000006\n"
     ]
    }
   ],
   "source": [
    "P=int(input('Enter principal amount:'))\n",
    "R=float(input('PLease enter Rate of interest:'))\n",
    "T=int(input('Enter number of years for investment:'))\n",
    "I=P*((1+R)**T)\n",
    "print(f'After{T} years your principal amount {P} over an interst rate {R} % will be  {I}')\n"
   ]
  },
  {
   "cell_type": "code",
   "execution_count": null,
   "metadata": {},
   "outputs": [],
   "source": []
  },
  {
   "cell_type": "markdown",
   "metadata": {},
   "source": [
    "## 10. Euclidean distance\n",
    "### write a Python program to compute the distance between the points (x1, y1) and (x2, y2).\n",
    "#### Program Console Sample 1:\n",
    "###### Enter Co-ordinate for x1: 2\n",
    "###### Enter Co-ordinate for x2: 4\n",
    "###### Enter Co-ordinate for y1: 4\n",
    "###### Enter Co-ordinate for y2: 4\n",
    "###### Distance between points (2, 4) and (4, 4) is 2"
   ]
  },
  {
   "cell_type": "markdown",
   "metadata": {},
   "source": [
    "###### Reference:\n",
    "https://en.wikipedia.org/wiki/Euclidean_distance"
   ]
  },
  {
   "cell_type": "code",
   "execution_count": 8,
   "metadata": {},
   "outputs": [
    {
     "name": "stdout",
     "output_type": "stream",
     "text": [
      "Enter Co-ordinate for x1:2\n",
      "Enter Co-ordinate for x2:4\n",
      "Enter Co-ordinate for y1:4\n",
      "Enter Co-ordinate for y2:4\n",
      "Distance between points(2, 4) and (4, 4) is 2\n"
     ]
    }
   ],
   "source": [
    "x1=int(input('Enter Co-ordinate for x1:'))\n",
    "x2=int(input('Enter Co-ordinate for x2:'))\n",
    "y1=int(input('Enter Co-ordinate for y1:'))\n",
    "y2=int(input('Enter Co-ordinate for y2:'))\n",
    "import math\n",
    "distance= int(math.sqrt ((y1-x1)**2)+((y2-x2)**2))\n",
    "print(f'Distance between points{x1,y1} and {x2,y2} is {distance}')"
   ]
  },
  {
   "cell_type": "code",
   "execution_count": null,
   "metadata": {},
   "outputs": [],
   "source": []
  },
  {
   "cell_type": "markdown",
   "metadata": {},
   "source": [
    "## 11. Feet to Centimeter Converter\n",
    "### Write a Python program to convert height in feet to centimetres.\n",
    "##### Program Console Sample 1:\n",
    "###### Enter Height in Feet: 5\n",
    "###### There are 152.4 Cm in 5 ft\n",
    "###### Reference:\n",
    "https://www.rapidtables.com/convert/length/feet-to-cm.html"
   ]
  },
  {
   "cell_type": "code",
   "execution_count": 10,
   "metadata": {},
   "outputs": [
    {
     "name": "stdout",
     "output_type": "stream",
     "text": [
      "Enter Height in feet5\n",
      "There are 152.4 in 5.0ft\n"
     ]
    }
   ],
   "source": [
    "ft= float(input('Enter Height in feet'))\n",
    "cm=ft*30.48\n",
    "print(f'There are {cm} in {ft}ft')"
   ]
  },
  {
   "cell_type": "code",
   "execution_count": null,
   "metadata": {},
   "outputs": [],
   "source": []
  },
  {
   "cell_type": "markdown",
   "metadata": {},
   "source": [
    "## 12. BMI Calculator\n",
    "### Write a Python program to calculate body mass index\n",
    "##### Program Console Sample 1:\n",
    "###### Enter Height in Cm: 180\n",
    "###### Enter Weight in Kg: 75\n",
    "###### Your BMI is 23.15"
   ]
  },
  {
   "cell_type": "code",
   "execution_count": 17,
   "metadata": {},
   "outputs": [
    {
     "name": "stdout",
     "output_type": "stream",
     "text": [
      "Enter Height in cm:180\n",
      "Enter Weight in Kg:75\n",
      "Your BMI is 23.148148148148145\n"
     ]
    }
   ],
   "source": [
    "h=int(input('Enter Height in cm:'))\n",
    "w=int(input('Enter Weight in Kg:'))\n",
    "meterh=h*0.01\n",
    "BMI=(w/(meterh**2))\n",
    "print(f'Your BMI is {BMI}')"
   ]
  },
  {
   "cell_type": "code",
   "execution_count": 19,
   "metadata": {},
   "outputs": [
    {
     "name": "stdout",
     "output_type": "stream",
     "text": [
      "Enter Height in cm:180\n",
      "Enter Weight in Kg:75\n",
      "Your BMI is 23.15\n"
     ]
    }
   ],
   "source": [
    "h=int(input('Enter Height in cm:'))\n",
    "w=int(input('Enter Weight in Kg:'))\n",
    "meterh=h*0.01\n",
    "BMI=float(w/(meterh**2))\n",
    "BMI_new = float(format(BMI, '.2f'))\n",
    "print(f'Your BMI is {BMI_new}')"
   ]
  },
  {
   "cell_type": "markdown",
   "metadata": {},
   "source": [
    "## 13. Sum of n Positive Integers\n",
    "### Write a python program to sum of the first n positive integers\n",
    "#### Program Console Sample 1:\n",
    "###### Enter value of n: 5\n",
    "###### Sum of n Positive integers till 5 is 15"
   ]
  },
  {
   "cell_type": "code",
   "execution_count": 20,
   "metadata": {},
   "outputs": [
    {
     "name": "stdout",
     "output_type": "stream",
     "text": [
      "enter value of n:5\n",
      "sum of 5 positive values is 15\n"
     ]
    }
   ],
   "source": [
    "n=int(input('enter value of n:'))\n",
    "n_sum= int((n*(n+1))/2)\n",
    "print(f'sum of {n} positive values is {n_sum}')"
   ]
  },
  {
   "cell_type": "code",
   "execution_count": null,
   "metadata": {},
   "outputs": [],
   "source": []
  },
  {
   "cell_type": "code",
   "execution_count": null,
   "metadata": {},
   "outputs": [],
   "source": []
  },
  {
   "cell_type": "markdown",
   "metadata": {},
   "source": [
    "## 14. Digits Sum of a Number\n",
    "### Write a Python program to calculate the sum of the digits in an integer\n",
    "#### Program Console Sample 1:\n",
    "##### Enter a number: 15\n",
    "###### Sum of 1 + 5 is 6\n",
    "#### Program Console Sample 2:\n",
    "##### Enter a number: 1234\n",
    "###### Sum of 1 + 2 + 3 + 4 is 10"
   ]
  },
  {
   "cell_type": "code",
   "execution_count": 29,
   "metadata": {},
   "outputs": [
    {
     "name": "stdout",
     "output_type": "stream",
     "text": [
      "enter a number:15\n",
      "Sum of 15 is 6\n"
     ]
    }
   ],
   "source": [
    "num=input('enter a number:')\n",
    "sum = 0\n",
    "for x in num:\n",
    "    sum += int(x)\n",
    "print(f'Sum of {num} is {sum}')\n"
   ]
  },
  {
   "cell_type": "code",
   "execution_count": null,
   "metadata": {},
   "outputs": [],
   "source": []
  },
  {
   "cell_type": "code",
   "execution_count": null,
   "metadata": {},
   "outputs": [],
   "source": []
  },
  {
   "cell_type": "code",
   "execution_count": null,
   "metadata": {},
   "outputs": [],
   "source": []
  },
  {
   "cell_type": "code",
   "execution_count": null,
   "metadata": {},
   "outputs": [],
   "source": []
  },
  {
   "cell_type": "code",
   "execution_count": null,
   "metadata": {},
   "outputs": [],
   "source": []
  },
  {
   "cell_type": "code",
   "execution_count": null,
   "metadata": {},
   "outputs": [],
   "source": []
  },
  {
   "cell_type": "code",
   "execution_count": null,
   "metadata": {},
   "outputs": [],
   "source": []
  }
 ],
 "metadata": {
  "kernelspec": {
   "display_name": "Python 3",
   "language": "python",
   "name": "python3"
  }
 },
 "nbformat": 4,
 "nbformat_minor": 2
}
