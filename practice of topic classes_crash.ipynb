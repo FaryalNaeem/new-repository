{
 "cells": [
  {
   "cell_type": "code",
   "execution_count": 216,
   "metadata": {},
   "outputs": [],
   "source": [
    "class Mobiles():\n",
    "    def __init__(self,brand,colour,ram,screen,price=\" \"):\n",
    "        self.brand = brand\n",
    "        self.colour = colour\n",
    "        self.ram = ram\n",
    "        self.screen = screen\n",
    "        self.power = \"10W\"\n",
    "         \n",
    "    def call(self):\n",
    "        print(f\"{self.brand.title()} can make call\")\n",
    "    def msgs(self):\n",
    "        print(f\"{self.brand.title()} can send msgs\")\n",
    "    def screen1(self):\n",
    "        print(f\"{self.brand} has a screen size of \")\n",
    "    \n",
    "    "
   ]
  },
  {
   "cell_type": "code",
   "execution_count": 217,
   "metadata": {},
   "outputs": [],
   "source": [
    "mobile = Mobiles(\"samsung\", \"black\", \"4GB\", \"JJJ\")"
   ]
  },
  {
   "cell_type": "code",
   "execution_count": 218,
   "metadata": {},
   "outputs": [],
   "source": [
    "mobile1= Mobiles(\"nokia\", \"white\", \"8GB\", \"MMM\")"
   ]
  },
  {
   "cell_type": "code",
   "execution_count": 219,
   "metadata": {},
   "outputs": [
    {
     "data": {
      "text/plain": [
       "'samsung'"
      ]
     },
     "execution_count": 219,
     "metadata": {},
     "output_type": "execute_result"
    }
   ],
   "source": [
    "mobile.brand"
   ]
  },
  {
   "cell_type": "code",
   "execution_count": 220,
   "metadata": {},
   "outputs": [
    {
     "name": "stdout",
     "output_type": "stream",
     "text": [
      "Samsung can make call\n"
     ]
    }
   ],
   "source": [
    "mobile.call()"
   ]
  },
  {
   "cell_type": "code",
   "execution_count": 221,
   "metadata": {},
   "outputs": [
    {
     "data": {
      "text/plain": [
       "'nokia'"
      ]
     },
     "execution_count": 221,
     "metadata": {},
     "output_type": "execute_result"
    }
   ],
   "source": [
    "mobile1.brand"
   ]
  },
  {
   "cell_type": "code",
   "execution_count": 222,
   "metadata": {},
   "outputs": [
    {
     "name": "stdout",
     "output_type": "stream",
     "text": [
      "Nokia can make call\n"
     ]
    }
   ],
   "source": [
    "mobile1.call()"
   ]
  },
  {
   "cell_type": "code",
   "execution_count": 223,
   "metadata": {},
   "outputs": [
    {
     "name": "stdout",
     "output_type": "stream",
     "text": [
      "samsung has a screen size of \n"
     ]
    }
   ],
   "source": [
    "mobile.screen1()"
   ]
  },
  {
   "cell_type": "code",
   "execution_count": 224,
   "metadata": {},
   "outputs": [],
   "source": [
    "class Mobiles():\n",
    "    def __init__(self,brand,colour,ram,screen,price=\" \"):\n",
    "        self.brand = brand\n",
    "        self.colour = colour\n",
    "        self.ram = ram\n",
    "        self.screen = screen\n",
    "        self.power = \"10W\"    \n",
    "    def call(self):\n",
    "        print(f\"{self.brand.title()} can make call\")\n",
    "    def msgs(self):\n",
    "        print(f\"{self.brand.title()} can send msgs\")\n",
    "    def Sizescreen(self):\n",
    "        print(f\"{self.brand} has a screen size of {self.screen} inche\")\n",
    "    "
   ]
  },
  {
   "cell_type": "code",
   "execution_count": 225,
   "metadata": {},
   "outputs": [],
   "source": [
    "mobiles= Mobiles(\"oopo\", \"black\", \"4GB\", 50)"
   ]
  },
  {
   "cell_type": "code",
   "execution_count": 149,
   "metadata": {},
   "outputs": [
    {
     "data": {
      "text/plain": [
       "'oopo'"
      ]
     },
     "execution_count": 149,
     "metadata": {},
     "output_type": "execute_result"
    }
   ],
   "source": [
    "mobiles.brand\n"
   ]
  },
  {
   "cell_type": "code",
   "execution_count": 150,
   "metadata": {},
   "outputs": [
    {
     "name": "stdout",
     "output_type": "stream",
     "text": [
      "Oopo can make call\n"
     ]
    }
   ],
   "source": [
    "mobiles.call()"
   ]
  },
  {
   "cell_type": "code",
   "execution_count": 151,
   "metadata": {},
   "outputs": [
    {
     "name": "stdout",
     "output_type": "stream",
     "text": [
      "oopo has a screen size of 50 inche\n"
     ]
    }
   ],
   "source": [
    "mobiles.Sizescreen()"
   ]
  },
  {
   "cell_type": "code",
   "execution_count": 17,
   "metadata": {},
   "outputs": [],
   "source": [
    "class Car():\n",
    "    def __init__(self, make, model, year):\n",
    "        self.make = make\n",
    "        self.model = model\n",
    "        self.year = year\n",
    "        self.battery = 10\n",
    "    def descriptive(self):\n",
    "        long_name = self.make + \" \"+ self.model +\" \"+ str(self.year)\n",
    "        return long_name\n",
    "    def batteries(self):\n",
    "        print(f\"{self.make} batter is about {self.battery}w\")\n",
    "    def update_batteries(self, power):\n",
    "        if power >= self.battery:\n",
    "            self.battery = power\n",
    "            print(f\"{self.make} batter is about {self.battery}w\")\n",
    "        else:\n",
    "            print(\"This battery power is not allowed\")\n",
    "    def increment_update(self, power):\n",
    "        self.battery += power\n",
    "        print(f\"The battery power is updated {self.battery}w\")"
   ]
  },
  {
   "cell_type": "code",
   "execution_count": 18,
   "metadata": {},
   "outputs": [],
   "source": [
    "car1 = Car(\"audi\", \"a4\", 2019)"
   ]
  },
  {
   "cell_type": "code",
   "execution_count": 19,
   "metadata": {},
   "outputs": [],
   "source": [
    "car2 = Car(\"abc\", \"xxz\", 2018)"
   ]
  },
  {
   "cell_type": "code",
   "execution_count": 6,
   "metadata": {},
   "outputs": [
    {
     "data": {
      "text/plain": [
       "'audi'"
      ]
     },
     "execution_count": 6,
     "metadata": {},
     "output_type": "execute_result"
    }
   ],
   "source": [
    "car1.make"
   ]
  },
  {
   "cell_type": "code",
   "execution_count": 98,
   "metadata": {},
   "outputs": [
    {
     "data": {
      "text/plain": [
       "'audi a4 2019'"
      ]
     },
     "execution_count": 98,
     "metadata": {},
     "output_type": "execute_result"
    }
   ],
   "source": [
    "car1.descriptive()"
   ]
  },
  {
   "cell_type": "code",
   "execution_count": 99,
   "metadata": {},
   "outputs": [
    {
     "name": "stdout",
     "output_type": "stream",
     "text": [
      "audi batter is about 10w\n"
     ]
    }
   ],
   "source": [
    "car1.batteries()"
   ]
  },
  {
   "cell_type": "code",
   "execution_count": 100,
   "metadata": {},
   "outputs": [
    {
     "name": "stdout",
     "output_type": "stream",
     "text": [
      "abc batter is about 10w\n"
     ]
    }
   ],
   "source": [
    "car2.batteries()"
   ]
  },
  {
   "cell_type": "code",
   "execution_count": 101,
   "metadata": {},
   "outputs": [],
   "source": [
    "car1.battery=\" 20W\""
   ]
  },
  {
   "cell_type": "code",
   "execution_count": 102,
   "metadata": {},
   "outputs": [
    {
     "name": "stdout",
     "output_type": "stream",
     "text": [
      "audi batter is about  20Ww\n"
     ]
    }
   ],
   "source": [
    "car1.batteries()"
   ]
  },
  {
   "cell_type": "code",
   "execution_count": 103,
   "metadata": {},
   "outputs": [
    {
     "name": "stdout",
     "output_type": "stream",
     "text": [
      "abc batter is about 10w\n"
     ]
    }
   ],
   "source": [
    "car2.batteries()"
   ]
  },
  {
   "cell_type": "code",
   "execution_count": 104,
   "metadata": {},
   "outputs": [
    {
     "name": "stdout",
     "output_type": "stream",
     "text": [
      "audi batter is about 60Ww\n"
     ]
    }
   ],
   "source": [
    "car1.update_batteries(\"60W\")"
   ]
  },
  {
   "cell_type": "code",
   "execution_count": 105,
   "metadata": {},
   "outputs": [
    {
     "name": "stdout",
     "output_type": "stream",
     "text": [
      "audi batter is about 70Ww\n"
     ]
    }
   ],
   "source": [
    "car1.update_batteries(\"70W\")"
   ]
  },
  {
   "cell_type": "code",
   "execution_count": 106,
   "metadata": {},
   "outputs": [
    {
     "name": "stdout",
     "output_type": "stream",
     "text": [
      "This battery power is not allowed\n"
     ]
    }
   ],
   "source": [
    "car1.update_batteries(\"30W\")"
   ]
  },
  {
   "cell_type": "code",
   "execution_count": 107,
   "metadata": {},
   "outputs": [
    {
     "name": "stdout",
     "output_type": "stream",
     "text": [
      "abc batter is about 10w\n"
     ]
    }
   ],
   "source": [
    "car2.batteries()"
   ]
  },
  {
   "cell_type": "code",
   "execution_count": 110,
   "metadata": {},
   "outputs": [
    {
     "name": "stdout",
     "output_type": "stream",
     "text": [
      "abc batter is about 30w\n"
     ]
    }
   ],
   "source": [
    "car2.update_batteries(30)"
   ]
  },
  {
   "cell_type": "code",
   "execution_count": 112,
   "metadata": {},
   "outputs": [
    {
     "name": "stdout",
     "output_type": "stream",
     "text": [
      "The battery power is updated 50w\n"
     ]
    }
   ],
   "source": [
    "car2.increment_update(20)"
   ]
  },
  {
   "cell_type": "code",
   "execution_count": 20,
   "metadata": {},
   "outputs": [
    {
     "data": {
      "text/plain": [
       "'audi a4 2019'"
      ]
     },
     "execution_count": 20,
     "metadata": {},
     "output_type": "execute_result"
    }
   ],
   "source": [
    "car1.descriptive()"
   ]
  },
  {
   "cell_type": "code",
   "execution_count": 1,
   "metadata": {},
   "outputs": [],
   "source": [
    "# Ex 9.1\n",
    "    \n",
    "                "
   ]
  },
  {
   "cell_type": "code",
   "execution_count": 81,
   "metadata": {},
   "outputs": [],
   "source": [
    "class User():\n",
    "    def __init__(self,first_name,last_name,age,login_attempts):\n",
    "        self.first_name = first_name\n",
    "        self.last_name = last_name\n",
    "        self.age = age\n",
    "        self.login_attempts= login_attempts\n",
    "    def describe_user(self):\n",
    "        print(f\"{self.first_name} {self.last_name} {self.age} {self.login_attempts}\")\n",
    "    def greeting_user(self):\n",
    "        print(f\"Hi {self.first_name} {self.last_name}\")\n",
    "    def increment_login_attempts(self):\n",
    "        self.login_attempts +=1\n",
    "        print(self.login_attempts)\n",
    "    def reset_login_attempts(self):\n",
    "        self.login_attempts = 0\n",
    "        return self.login_attempts\n",
    "    \n",
    "        "
   ]
  },
  {
   "cell_type": "code",
   "execution_count": 82,
   "metadata": {},
   "outputs": [],
   "source": [
    "user1= User('Faryal', 'naeem', 23, 3)"
   ]
  },
  {
   "cell_type": "code",
   "execution_count": 99,
   "metadata": {},
   "outputs": [],
   "source": [
    "user2 = User('bisma', 'naeem', 24, 4)"
   ]
  },
  {
   "cell_type": "code",
   "execution_count": 84,
   "metadata": {},
   "outputs": [
    {
     "data": {
      "text/plain": [
       "'Faryal'"
      ]
     },
     "execution_count": 84,
     "metadata": {},
     "output_type": "execute_result"
    }
   ],
   "source": [
    "user1.first_name"
   ]
  },
  {
   "cell_type": "code",
   "execution_count": 85,
   "metadata": {},
   "outputs": [
    {
     "name": "stdout",
     "output_type": "stream",
     "text": [
      "Hi bisma naeem\n"
     ]
    }
   ],
   "source": [
    "user2.greeting_user()"
   ]
  },
  {
   "cell_type": "code",
   "execution_count": 86,
   "metadata": {},
   "outputs": [
    {
     "name": "stdout",
     "output_type": "stream",
     "text": [
      "Faryal naeem 23 3\n"
     ]
    }
   ],
   "source": [
    "user1.describe_user()"
   ]
  },
  {
   "cell_type": "code",
   "execution_count": 101,
   "metadata": {},
   "outputs": [
    {
     "name": "stdout",
     "output_type": "stream",
     "text": [
      "1\n"
     ]
    }
   ],
   "source": [
    "user1.increment_login_attempts()"
   ]
  },
  {
   "cell_type": "code",
   "execution_count": 102,
   "metadata": {},
   "outputs": [
    {
     "data": {
      "text/plain": [
       "0"
      ]
     },
     "execution_count": 102,
     "metadata": {},
     "output_type": "execute_result"
    }
   ],
   "source": [
    "user1.reset_login_attempts()"
   ]
  },
  {
   "cell_type": "code",
   "execution_count": 106,
   "metadata": {},
   "outputs": [
    {
     "name": "stdout",
     "output_type": "stream",
     "text": [
      "7\n"
     ]
    }
   ],
   "source": [
    "user2.increment_login_attempts()"
   ]
  },
  {
   "cell_type": "code",
   "execution_count": 108,
   "metadata": {},
   "outputs": [
    {
     "data": {
      "text/plain": [
       "0"
      ]
     },
     "execution_count": 108,
     "metadata": {},
     "output_type": "execute_result"
    }
   ],
   "source": [
    "user2.reset_login_attempts()"
   ]
  },
  {
   "cell_type": "code",
   "execution_count": 12,
   "metadata": {},
   "outputs": [],
   "source": [
    "class User():\n",
    "    def __init__(self,first_name,last_name,age,login_attempts):\n",
    "        self.first_name = first_name\n",
    "        self.last_name = last_name\n",
    "        self.age = age\n",
    "        self.login_attempts= login_attempts\n",
    "    def describe_user(self):\n",
    "        print(f\"{self.first_name} {self.last_name} {self.age} {self.login_attempts}\")\n",
    "    def greeting_user(self):\n",
    "        print(f\"Hi {self.first_name} {self.last_name}\")\n",
    "    def increment_login_attempts(self):\n",
    "        self.login_attempts +=1\n",
    "        print(self.login_attempts)\n",
    "    def reset_login_attempts(self):\n",
    "        self.login_attempts = 0\n",
    "        return self.login_attempts"
   ]
  },
  {
   "cell_type": "code",
   "execution_count": 13,
   "metadata": {},
   "outputs": [],
   "source": [
    "class Admin(User):\n",
    "    def __init__(self,firat_name,last_name,age,login_attempts=' '):\n",
    "        super().__init__(firat_name,last_name,age,login_attempts)\n",
    "        self.privileges= ['can add posts', 'can delete posts']\n",
    "    def show_privileges(self):\n",
    "        print(f\"{self.privileges}\")\n",
    "adm1=Admin('ajaz', 'naeem', 19, 10 )\n",
    "        "
   ]
  },
  {
   "cell_type": "code",
   "execution_count": 14,
   "metadata": {},
   "outputs": [
    {
     "data": {
      "text/plain": [
       "19"
      ]
     },
     "execution_count": 14,
     "metadata": {},
     "output_type": "execute_result"
    }
   ],
   "source": [
    "adm1.age"
   ]
  },
  {
   "cell_type": "code",
   "execution_count": 5,
   "metadata": {},
   "outputs": [
    {
     "data": {
      "text/plain": [
       "10"
      ]
     },
     "execution_count": 5,
     "metadata": {},
     "output_type": "execute_result"
    }
   ],
   "source": [
    "adm1.login_attempts"
   ]
  },
  {
   "cell_type": "code",
   "execution_count": 15,
   "metadata": {},
   "outputs": [
    {
     "data": {
      "text/plain": [
       "['can add posts', 'can delete posts']"
      ]
     },
     "execution_count": 15,
     "metadata": {},
     "output_type": "execute_result"
    }
   ],
   "source": [
    "adm1.privileges"
   ]
  },
  {
   "cell_type": "code",
   "execution_count": 16,
   "metadata": {},
   "outputs": [
    {
     "name": "stdout",
     "output_type": "stream",
     "text": [
      "['can add posts', 'can delete posts']\n"
     ]
    }
   ],
   "source": [
    "adm1.show_privileges()"
   ]
  },
  {
   "cell_type": "code",
   "execution_count": 1,
   "metadata": {},
   "outputs": [],
   "source": [
    "#practice of exceptions"
   ]
  },
  {
   "cell_type": "code",
   "execution_count": 16,
   "metadata": {},
   "outputs": [
    {
     "name": "stdout",
     "output_type": "stream",
     "text": [
      "Enter your number:8\n",
      "Enter your number:8\n",
      "It is now IndexError\n"
     ]
    }
   ],
   "source": [
    "a=int(input('Enter your number:'))\n",
    "b=int(input(\"Enter your number:\"))\n",
    "d=[]\n",
    "try:\n",
    "    c = a/b\n",
    "    e=d[5]\n",
    "    print(e)\n",
    "except ZeroDivisionError:\n",
    "    print('we handle ZeroDivisionError')\n",
    "except IndexError:\n",
    "    print('It is now IndexError')\n",
    "else:\n",
    "    print(c)\n",
    "    "
   ]
  },
  {
   "cell_type": "code",
   "execution_count": 6,
   "metadata": {},
   "outputs": [
    {
     "name": "stdout",
     "output_type": "stream",
     "text": [
      "Enter your number:9\n",
      "Enter your number:9\n",
      "Exception handled == list index out of range\n",
      "It will always run\n"
     ]
    }
   ],
   "source": [
    "a=int(input('Enter your number:'))\n",
    "b=int(input(\"Enter your number:\"))\n",
    "d=[]\n",
    "try:\n",
    "    c = a/b\n",
    "    e=d[5]\n",
    "    print(e)\n",
    "except Exception as e:\n",
    "    print('Exception handled == '+ str(e))\n",
    "\n",
    "else:\n",
    "    print(c)\n",
    "finally:\n",
    "    print('It will always run')\n",
    "    "
   ]
  },
  {
   "cell_type": "code",
   "execution_count": 6,
   "metadata": {},
   "outputs": [],
   "source": [
    "class Student_age():\n",
    "    def __init__(self,name,age):\n",
    "        if age >80 or age < 16:\n",
    "            raise Exception('age cannot be greater than 80 and less than 16')\n",
    "        self.name = name\n",
    "        self.age = age\n",
    "        \n",
    "        \n",
    "            "
   ]
  },
  {
   "cell_type": "code",
   "execution_count": 7,
   "metadata": {},
   "outputs": [
    {
     "name": "stdout",
     "output_type": "stream",
     "text": [
      "Enter your age:15\n",
      "Exception == age cannot be greater than 80 and less than 16\n"
     ]
    }
   ],
   "source": [
    "try:\n",
    "    age= int(input(\"Enter your age:\"))\n",
    "    st=Student_age(\"faryal\", age)\n",
    "except Exception as e:\n",
    "    print('Exception == ' + str(e))\n",
    "else:\n",
    "    print(st.age)"
   ]
  },
  {
   "cell_type": "code",
   "execution_count": 14,
   "metadata": {},
   "outputs": [],
   "source": [
    "class Student_age():\n",
    "    def __init__(self,name,age):\n",
    "        if age >80 or age < 16:\n",
    "            raise StudentageException('age cannot be greater than 80 and less than 16')\n",
    "        self.name = name\n",
    "        self.age = age\n",
    "\n",
    "class StudentageException(Exception):\n",
    "    pass\n",
    "        "
   ]
  },
  {
   "cell_type": "code",
   "execution_count": 15,
   "metadata": {},
   "outputs": [
    {
     "name": "stdout",
     "output_type": "stream",
     "text": [
      "Enter your age90\n",
      "exception handled==age cannot be greater than 80 and less than 16\n"
     ]
    }
   ],
   "source": [
    "try:\n",
    "    age=int(input(\"Enter your age\"))\n",
    "    st1= Student_age('Hello', age)\n",
    "except StudentageException as e:\n",
    "    print(\"exception handled==\" + str(e) )\n",
    "else:\n",
    "    print(st1.age)\n"
   ]
  },
  {
   "cell_type": "code",
   "execution_count": null,
   "metadata": {},
   "outputs": [],
   "source": []
  }
 ],
 "metadata": {
  "kernelspec": {
   "display_name": "Python 3",
   "language": "python",
   "name": "python3"
  },
  "language_info": {
   "codemirror_mode": {
    "name": "ipython",
    "version": 3
   },
   "file_extension": ".py",
   "mimetype": "text/x-python",
   "name": "python",
   "nbconvert_exporter": "python",
   "pygments_lexer": "ipython3",
   "version": "3.7.3"
  }
 },
 "nbformat": 4,
 "nbformat_minor": 2
}
