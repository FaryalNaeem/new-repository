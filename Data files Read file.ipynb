{
 "cells": [
  {
   "cell_type": "markdown",
   "metadata": {},
   "source": [
    "# Data files Read file"
   ]
  },
  {
   "cell_type": "code",
   "execution_count": 41,
   "metadata": {},
   "outputs": [],
   "source": [
    "with open(\"abcd.txt\", 'w') as f: # handler\n",
    "    f.write(\"I am writing in this file first time\")\n",
    "    f.write(\"\\nI am writing again\")\n",
    "    #it will over write only if file is closed."
   ]
  },
  {
   "cell_type": "code",
   "execution_count": 42,
   "metadata": {},
   "outputs": [
    {
     "name": "stdout",
     "output_type": "stream",
     "text": [
      "I am writing in this file first time\n",
      "I am writing again\n"
     ]
    }
   ],
   "source": [
    "with open(\"abcd.txt\", \"r\") as file:\n",
    "    content = file.read()\n",
    "print(content)"
   ]
  },
  {
   "cell_type": "markdown",
   "metadata": {},
   "source": []
  },
  {
   "cell_type": "code",
   "execution_count": 19,
   "metadata": {},
   "outputs": [],
   "source": [
    "with open(\"emptyfile.txt\", \"a\") as f:\n",
    "    f.write(\"This is apend file\")"
   ]
  },
  {
   "cell_type": "code",
   "execution_count": 10,
   "metadata": {},
   "outputs": [
    {
     "name": "stdout",
     "output_type": "stream",
     "text": [
      "This is a W+ mode\n"
     ]
    }
   ],
   "source": [
    "with open(\"newfile.txt\", \"w+\") as f:\n",
    "    f.write(\"This is a W+ mode\")\n",
    "    f.seek(0)\n",
    "    content = f.read()\n",
    "    print(content)"
   ]
  },
  {
   "cell_type": "code",
   "execution_count": 6,
   "metadata": {},
   "outputs": [
    {
     "name": "stdout",
     "output_type": "stream",
     "text": [
      "This is a W+ mode\n"
     ]
    }
   ],
   "source": [
    "with open(\"newfile.txt\") as f:\n",
    "    content = f.read()\n",
    "    print(content)"
   ]
  },
  {
   "cell_type": "code",
   "execution_count": 34,
   "metadata": {},
   "outputs": [],
   "source": [
    "with open(\"xyz.txt\", 'w') as f:\n",
    "    f.write(\"I am doing practice\")\n",
    "    f.write(\"\\nIt is interesting\")"
   ]
  },
  {
   "cell_type": "code",
   "execution_count": 35,
   "metadata": {},
   "outputs": [
    {
     "name": "stdout",
     "output_type": "stream",
     "text": [
      "I am doing practice\n",
      "It is interesting\n"
     ]
    }
   ],
   "source": [
    "with open(\"xyz.txt\", \"r\") as f:\n",
    "    content1=f.read()\n",
    "print(content1)\n"
   ]
  },
  {
   "cell_type": "code",
   "execution_count": 36,
   "metadata": {},
   "outputs": [],
   "source": [
    "with open(\"xyz.txt\", 'a') as file:\n",
    "    file.write(\"\\nThis is a append mode\")"
   ]
  },
  {
   "cell_type": "code",
   "execution_count": 37,
   "metadata": {},
   "outputs": [
    {
     "name": "stdout",
     "output_type": "stream",
     "text": [
      "its W+ mode\n"
     ]
    }
   ],
   "source": [
    "with open(\"ss.txt\", \"w+\") as file:\n",
    "    file.write(\"its W+ mode\")\n",
    "    file.seek(0)\n",
    "    content2= file.read()\n",
    "    print(content2)"
   ]
  },
  {
   "cell_type": "code",
   "execution_count": null,
   "metadata": {},
   "outputs": [],
   "source": []
  },
  {
   "cell_type": "code",
   "execution_count": null,
   "metadata": {},
   "outputs": [],
   "source": []
  }
 ],
 "metadata": {
  "kernelspec": {
   "display_name": "Python 3",
   "language": "python",
   "name": "python3"
  },
  "language_info": {
   "codemirror_mode": {
    "name": "ipython",
    "version": 3
   },
   "file_extension": ".py",
   "mimetype": "text/x-python",
   "name": "python",
   "nbconvert_exporter": "python",
   "pygments_lexer": "ipython3",
   "version": "3.7.3"
  }
 },
 "nbformat": 4,
 "nbformat_minor": 2
}
