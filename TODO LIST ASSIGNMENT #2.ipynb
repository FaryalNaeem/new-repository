{
 "cells": [
  {
   "cell_type": "code",
   "execution_count": 1,
   "metadata": {},
   "outputs": [
    {
     "name": "stdout",
     "output_type": "stream",
     "text": [
      "Mention your task done:Awake\n",
      "0\n",
      "You total task are ['Prayer', 'Assignment', 'Recite Quran', 'Study', 'Aftar', 'Tarawee']\n",
      "your task done is ['Awake']\n"
     ]
    }
   ],
   "source": [
    "daily_tasks = [\"Awake\", \"Prayer\", \"Assignment\", \"Recite Quran\", \"Study\", \"Aftar\", \"Tarawee\"]\n",
    "daily_task = []\n",
    "user_task = input(\"Mention your task done:\")\n",
    "if user_task == daily_tasks[0] or user_task == daily_tasks[1] or user_task == [2] or user_task ==  daily_tasks[3] or user_task ==  daily_tasks[4] or user_task == daily_tasks[5] or user_task == daily_tasks[6]:\n",
    "    index_number = daily_tasks.index(user_task)\n",
    "    print(index_number)\n",
    "    task_done = daily_tasks.pop(index_number)\n",
    "    daily_task.append(task_done)\n",
    "    print(f\"You total task are\",daily_tasks)\n",
    "    print(f\"your task done is\",daily_task)\n",
    "else:\n",
    "    print(\"This task is not in the list\")\n",
    "    \n",
    "    \n",
    "    \n",
    "    "
   ]
  },
  {
   "cell_type": "code",
   "execution_count": null,
   "metadata": {},
   "outputs": [],
   "source": [
    "    index_number = daily_tasks.index(user_task)\n",
    "    print(index_number)"
   ]
  },
  {
   "cell_type": "code",
   "execution_count": 3,
   "metadata": {},
   "outputs": [
    {
     "name": "stdout",
     "output_type": "stream",
     "text": [
      "Mention your task done:Awake\n",
      "0\n",
      "You total task are ['Prayer', 'Assignment', 'Recite Quran', 'Study', 'Aftar', 'Tarawee']\n",
      "your task done is ['Awake']\n"
     ]
    }
   ],
   "source": [
    "daily_tasks = [\"Awake\", \"Prayer\", \"Assignment\", \"Recite Quran\", \"Study\", \"Aftar\", \"Tarawee\"]\n",
    "daily_task = []\n",
    "user_task = input(\"Mention your task done:\")\n",
    "if user_task in daily_tasks:\n",
    "    index_number = daily_tasks.index(user_task)\n",
    "    print(index_number)\n",
    "    task_done = daily_tasks.pop(index_number)\n",
    "    daily_task.append(task_done)\n",
    "    print(f\"You total task are\",daily_tasks)\n",
    "    print(f\"your task done is\",daily_task)\n",
    "else:\n",
    "    print(\"This task is not in the list\")\n",
    "    \n",
    "                                 "
   ]
  },
  {
   "cell_type": "code",
   "execution_count": null,
   "metadata": {},
   "outputs": [],
   "source": []
  }
 ],
 "metadata": {
  "kernelspec": {
   "display_name": "Python 3",
   "language": "python",
   "name": "python3"
  },
  "language_info": {
   "codemirror_mode": {
    "name": "ipython",
    "version": 3
   },
   "file_extension": ".py",
   "mimetype": "text/x-python",
   "name": "python",
   "nbconvert_exporter": "python",
   "pygments_lexer": "ipython3",
   "version": "3.7.3"
  }
 },
 "nbformat": 4,
 "nbformat_minor": 2
}
