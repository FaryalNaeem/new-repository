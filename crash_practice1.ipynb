{
 "cells": [
  {
   "cell_type": "code",
   "execution_count": 10,
   "metadata": {},
   "outputs": [
    {
     "name": "stdout",
     "output_type": "stream",
     "text": [
      "faryal is a good girl\n",
      "FARYAL IS A GOOD GIRL\n",
      "Faryal Is A Good Girl\n",
      "Faryal is a good girl\n"
     ]
    }
   ],
   "source": [
    "name = \"Faryal is a good girl\"\n",
    "print(name.lower()) \n",
    "print(name.upper())\n",
    "print(name.title())\n",
    "print(name)"
   ]
  },
  {
   "cell_type": "code",
   "execution_count": 12,
   "metadata": {},
   "outputs": [
    {
     "name": "stdout",
     "output_type": "stream",
     "text": [
      "enter your name:ZOYA\n",
      "zoya\n"
     ]
    }
   ],
   "source": [
    "c=input(\"enter your name:\")\n",
    "print(c.lower())"
   ]
  },
  {
   "cell_type": "code",
   "execution_count": 17,
   "metadata": {},
   "outputs": [
    {
     "name": "stdout",
     "output_type": "stream",
     "text": [
      "hello, Faryal naeem!\n"
     ]
    }
   ],
   "source": [
    "first_name = \"faryal\"\n",
    "last_name = \"naeem\"\n",
    "full_name = \"hello, \"+ first_name.title()+\" \" +last_name + \"!\"\n",
    "print(full_name)"
   ]
  },
  {
   "cell_type": "markdown",
   "metadata": {},
   "source": [
    "# Adding white spaces with \\n & \\t"
   ]
  },
  {
   "cell_type": "code",
   "execution_count": 4,
   "metadata": {},
   "outputs": [
    {
     "name": "stdout",
     "output_type": "stream",
     "text": [
      "Student_name\tfather_name\tAddress\n",
      "Amna\t\tGaffar\t\tabc\n"
     ]
    }
   ],
   "source": [
    "print(\"Student_name\\tfather_name\\tAddress\\nAmna\\t\\tGaffar\\t\\tabc\")"
   ]
  },
  {
   "cell_type": "code",
   "execution_count": 8,
   "metadata": {},
   "outputs": [
    {
     "name": "stdout",
     "output_type": "stream",
     "text": [
      "information:\n",
      "Amna\t\tGaffar\n",
      "rabia\t\tNaeem\n",
      "Faryal\t\tNaeem\n"
     ]
    }
   ],
   "source": [
    "print(\"information:\\nAmna\\t\\tGaffar\\nrabia\\t\\tNaeem\\nFaryal\\t\\tNaeem\")"
   ]
  },
  {
   "cell_type": "code",
   "execution_count": null,
   "metadata": {},
   "outputs": [],
   "source": [
    "#striping whitespaces"
   ]
  },
  {
   "cell_type": "code",
   "execution_count": 21,
   "metadata": {},
   "outputs": [
    {
     "data": {
      "text/plain": [
       "'urdu'"
      ]
     },
     "execution_count": 21,
     "metadata": {},
     "output_type": "execute_result"
    }
   ],
   "source": [
    "language=\"urdu  \"\n",
    "language\n",
    "language.rstrip()\n"
   ]
  },
  {
   "cell_type": "code",
   "execution_count": 22,
   "metadata": {},
   "outputs": [
    {
     "data": {
      "text/plain": [
       "'urdu  '"
      ]
     },
     "execution_count": 22,
     "metadata": {},
     "output_type": "execute_result"
    }
   ],
   "source": [
    "language"
   ]
  },
  {
   "cell_type": "code",
   "execution_count": 23,
   "metadata": {},
   "outputs": [
    {
     "data": {
      "text/plain": [
       "'urdu'"
      ]
     },
     "execution_count": 23,
     "metadata": {},
     "output_type": "execute_result"
    }
   ],
   "source": [
    "#for permanent striping again store it i same variable\n",
    "language=language.rstrip()\n",
    "language"
   ]
  },
  {
   "cell_type": "code",
   "execution_count": 24,
   "metadata": {},
   "outputs": [
    {
     "data": {
      "text/plain": [
       "'urdu  '"
      ]
     },
     "execution_count": 24,
     "metadata": {},
     "output_type": "execute_result"
    }
   ],
   "source": [
    "language= \" urdu  \"\n",
    "language.lstrip()"
   ]
  },
  {
   "cell_type": "code",
   "execution_count": 25,
   "metadata": {},
   "outputs": [
    {
     "data": {
      "text/plain": [
       "'urdu'"
      ]
     },
     "execution_count": 25,
     "metadata": {},
     "output_type": "execute_result"
    }
   ],
   "source": [
    "language.strip()"
   ]
  },
  {
   "cell_type": "code",
   "execution_count": 30,
   "metadata": {},
   "outputs": [
    {
     "name": "stdout",
     "output_type": "stream",
     "text": [
      "\"Hello Eric,would you like to learn some P|ython today?\"\n"
     ]
    }
   ],
   "source": [
    "#try yourself\n",
    "var_1= \"\\\"Hello Eric,\"\n",
    "var_2= \"would you like to learn some P|ython today?\\\"\"\n",
    "message= var_1+var_2\n",
    "print(message)\n"
   ]
  },
  {
   "cell_type": "code",
   "execution_count": 37,
   "metadata": {},
   "outputs": [
    {
     "name": "stdout",
     "output_type": "stream",
     "text": [
      "\"Hello Eric,would you like to learn some Python today?\"\n"
     ]
    }
   ],
   "source": [
    "var_1 = \"\\\"Hello Eric,would you like to learn some Python today?\\\"\"\n",
    "print(var_1)"
   ]
  },
  {
   "cell_type": "code",
   "execution_count": 48,
   "metadata": {},
   "outputs": [
    {
     "name": "stdout",
     "output_type": "stream",
     "text": [
      "Albert Einstin once said,\\“A person who never made a mistake never tried anything new.\\”\n"
     ]
    }
   ],
   "source": [
    "famous_person = \"Albert Einstin\"\n",
    "message = famous_person +\" \"+ \"once said,\\“A person who never made a mistake never tried anything new.\\”\"\n",
    "print(message)"
   ]
  },
  {
   "cell_type": "code",
   "execution_count": 50,
   "metadata": {},
   "outputs": [
    {
     "data": {
      "text/plain": [
       "1"
      ]
     },
     "execution_count": 50,
     "metadata": {},
     "output_type": "execute_result"
    }
   ],
   "source": [
    "3//2"
   ]
  },
  {
   "cell_type": "code",
   "execution_count": 1,
   "metadata": {},
   "outputs": [
    {
     "name": "stdout",
     "output_type": "stream",
     "text": [
      "fatima\n"
     ]
    }
   ],
   "source": [
    "name = ['fatima', 'sana', 'ali']\n",
    "print(name[0])"
   ]
  },
  {
   "cell_type": "code",
   "execution_count": 2,
   "metadata": {},
   "outputs": [
    {
     "name": "stdout",
     "output_type": "stream",
     "text": [
      "ALI\n"
     ]
    }
   ],
   "source": [
    "print(name[-1].upper())"
   ]
  },
  {
   "cell_type": "code",
   "execution_count": 5,
   "metadata": {},
   "outputs": [
    {
     "name": "stdout",
     "output_type": "stream",
     "text": [
      "my name is Fatima.\n"
     ]
    }
   ],
   "source": [
    "message= 'my name is'+\" \" + name[0].title()+\".\"\n",
    "print(message)"
   ]
  },
  {
   "cell_type": "code",
   "execution_count": 11,
   "metadata": {},
   "outputs": [
    {
     "name": "stdout",
     "output_type": "stream",
     "text": [
      "hi\\,how are youALI.\n"
     ]
    }
   ],
   "source": [
    "message= \"hi\\,how are you\"+name[2].upper()+\".\"\n",
    "print(message)\n",
    "#ask teacher about how to remove this slash when we try to place come "
   ]
  },
  {
   "cell_type": "code",
   "execution_count": 20,
   "metadata": {},
   "outputs": [
    {
     "name": "stdout",
     "output_type": "stream",
     "text": [
      "\"I would like to ride civic.\"\n"
     ]
    }
   ],
   "source": [
    "transport = ['hondabike', 'civic', 'corolla', 'pajero']\n",
    "message= \"\\\"I would like to ride\"+' ' + transport[1].lower()+\".\"+\"\\\"\"\n",
    "print(message)"
   ]
  },
  {
   "cell_type": "markdown",
   "metadata": {},
   "source": [
    "# LIST"
   ]
  },
  {
   "cell_type": "code",
   "execution_count": 80,
   "metadata": {},
   "outputs": [
    {
     "name": "stdout",
     "output_type": "stream",
     "text": [
      "['fatima', 'taj', 'asma', 'kiran', 'amna', 'rabia', 'javeria']\n"
     ]
    }
   ],
   "source": [
    "guest_list = ['fatima', 'taj', 'asma', 'kiran', 'amna', 'rabia', 'javeria']\n",
    "print(guest_list)"
   ]
  },
  {
   "cell_type": "code",
   "execution_count": 81,
   "metadata": {},
   "outputs": [
    {
     "name": "stdout",
     "output_type": "stream",
     "text": [
      "Today I have arranged a dinner at my place Fatima you are also invited.\n"
     ]
    }
   ],
   "source": [
    "print('Today I have arranged a dinner at my place'+ ' ' + guest_list[0].title() + ' ' +'you are also invited.')"
   ]
  },
  {
   "cell_type": "code",
   "execution_count": 82,
   "metadata": {},
   "outputs": [
    {
     "name": "stdout",
     "output_type": "stream",
     "text": [
      "Today I have arranged a dinner at my place Taj you are also invited.\n"
     ]
    }
   ],
   "source": [
    "print('Today I have arranged a dinner at my place'+ ' ' + guest_list[1].title() + ' ' +'you are also invited.')"
   ]
  },
  {
   "cell_type": "code",
   "execution_count": 83,
   "metadata": {},
   "outputs": [
    {
     "name": "stdout",
     "output_type": "stream",
     "text": [
      "javeria is not comming at dinner.\n"
     ]
    }
   ],
   "source": [
    "print(guest_list[6] + ' ' +\"is not comming at dinner.\")\n",
    "# As javeria is not coming to my dinner so I am modifying list and inviting sana "
   ]
  },
  {
   "cell_type": "code",
   "execution_count": 84,
   "metadata": {},
   "outputs": [
    {
     "name": "stdout",
     "output_type": "stream",
     "text": [
      "['fatima', 'taj', 'asma', 'kiran', 'amna', 'rabia', 'sana']\n"
     ]
    }
   ],
   "source": [
    "guest_list[6] = 'sana'\n",
    "print(guest_list)"
   ]
  },
  {
   "cell_type": "code",
   "execution_count": 85,
   "metadata": {},
   "outputs": [
    {
     "name": "stdout",
     "output_type": "stream",
     "text": [
      "Today I have arranged a dinner at my place Sana you are also invited.\n"
     ]
    }
   ],
   "source": [
    "print('Today I have arranged a dinner at my place'+ ' ' + guest_list[6].title() + ' ' +'you are also invited.')"
   ]
  },
  {
   "cell_type": "code",
   "execution_count": 86,
   "metadata": {},
   "outputs": [
    {
     "name": "stdout",
     "output_type": "stream",
     "text": [
      "I have bought new dining table so I am inviting more people\n"
     ]
    }
   ],
   "source": [
    "print('I have bought new dining table so I am inviting more people')"
   ]
  },
  {
   "cell_type": "code",
   "execution_count": 87,
   "metadata": {},
   "outputs": [],
   "source": [
    "guest_list.insert(0,'Ch Naeem')"
   ]
  },
  {
   "cell_type": "code",
   "execution_count": 88,
   "metadata": {},
   "outputs": [],
   "source": [
    "guest_list.insert(3,'Kauser')"
   ]
  },
  {
   "cell_type": "code",
   "execution_count": 89,
   "metadata": {},
   "outputs": [
    {
     "name": "stdout",
     "output_type": "stream",
     "text": [
      "['Ch Naeem', 'fatima', 'taj', 'Kauser', 'asma', 'kiran', 'amna', 'rabia', 'sana', 'Ajaz']\n"
     ]
    }
   ],
   "source": [
    "guest_list.append('Ajaz')\n",
    "print(guest_list)\n"
   ]
  },
  {
   "cell_type": "code",
   "execution_count": null,
   "metadata": {},
   "outputs": [],
   "source": []
  },
  {
   "cell_type": "code",
   "execution_count": 90,
   "metadata": {
    "scrolled": true
   },
   "outputs": [
    {
     "name": "stdout",
     "output_type": "stream",
     "text": [
      "['Ch Naeem', 'fatima', 'taj', 'Kauser', 'asma', 'kiran', 'amna', 'rabia', 'sana', 'Ajaz']\n"
     ]
    }
   ],
   "source": [
    "new_guest_list = guest_list\n",
    "print(new_guest_list)"
   ]
  },
  {
   "cell_type": "code",
   "execution_count": 91,
   "metadata": {},
   "outputs": [
    {
     "name": "stdout",
     "output_type": "stream",
     "text": [
      "Today I have arranged a dinner at my place Amna you are also invited.\n"
     ]
    }
   ],
   "source": [
    "print('Today I have arranged a dinner at my place'+ ' ' + guest_list[6].title() + ' ' +'you are also invited.')"
   ]
  },
  {
   "cell_type": "code",
   "execution_count": 92,
   "metadata": {},
   "outputs": [
    {
     "name": "stdout",
     "output_type": "stream",
     "text": [
      "Today I have arranged a dinner at my place Rabia you are also invited.\n"
     ]
    }
   ],
   "source": [
    "print('Today I have arranged a dinner at my place'+ ' ' + guest_list[7].title() + ' ' +'you are also invited.')"
   ]
  },
  {
   "cell_type": "code",
   "execution_count": 93,
   "metadata": {},
   "outputs": [
    {
     "name": "stdout",
     "output_type": "stream",
     "text": [
      "['Ch Naeem', 'fatima', 'taj', 'Kauser', 'asma', 'kiran', 'amna', 'rabia', 'sana', 'Ajaz']\n"
     ]
    }
   ],
   "source": [
    "print(new_guest_list)"
   ]
  },
  {
   "cell_type": "code",
   "execution_count": 94,
   "metadata": {},
   "outputs": [
    {
     "name": "stdout",
     "output_type": "stream",
     "text": [
      "Ajaz sorry u are not invited\n"
     ]
    }
   ],
   "source": [
    "change_list = new_guest_list.pop()\n",
    "print(change_list.title()+\" \"+\"sorry u are not invited\")\n"
   ]
  },
  {
   "cell_type": "code",
   "execution_count": 95,
   "metadata": {},
   "outputs": [
    {
     "name": "stdout",
     "output_type": "stream",
     "text": [
      "['Ch Naeem', 'fatima', 'taj', 'Kauser', 'asma', 'kiran', 'amna', 'rabia', 'sana']\n"
     ]
    }
   ],
   "source": [
    "print(new_guest_list)"
   ]
  },
  {
   "cell_type": "code",
   "execution_count": 96,
   "metadata": {},
   "outputs": [
    {
     "name": "stdout",
     "output_type": "stream",
     "text": [
      "Sana sorry u are not invited\n"
     ]
    }
   ],
   "source": [
    "change_list = new_guest_list.pop()\n",
    "print(change_list.title()+\" \"+\"sorry u are not invited\")"
   ]
  },
  {
   "cell_type": "code",
   "execution_count": 97,
   "metadata": {},
   "outputs": [
    {
     "name": "stdout",
     "output_type": "stream",
     "text": [
      "Rabia sorry u are not invited\n"
     ]
    }
   ],
   "source": [
    "change_list = new_guest_list.pop()\n",
    "print(change_list.title()+\" \"+\"sorry u are not invited\")"
   ]
  },
  {
   "cell_type": "code",
   "execution_count": 98,
   "metadata": {},
   "outputs": [
    {
     "name": "stdout",
     "output_type": "stream",
     "text": [
      "Amna sorry u are not invited\n"
     ]
    }
   ],
   "source": [
    "change_list = new_guest_list.pop()\n",
    "print(change_list.title()+\" \"+\"sorry u are not invited\")"
   ]
  },
  {
   "cell_type": "code",
   "execution_count": 99,
   "metadata": {},
   "outputs": [
    {
     "name": "stdout",
     "output_type": "stream",
     "text": [
      "Kiran sorry u are not invited\n"
     ]
    }
   ],
   "source": [
    "change_list = new_guest_list.pop()\n",
    "print(change_list.title()+\" \"+\"sorry u are not invited\")"
   ]
  },
  {
   "cell_type": "code",
   "execution_count": 100,
   "metadata": {},
   "outputs": [
    {
     "name": "stdout",
     "output_type": "stream",
     "text": [
      "Asma sorry u are not invited\n"
     ]
    }
   ],
   "source": [
    "change_list = new_guest_list.pop()\n",
    "print(change_list.title()+\" \"+\"sorry u are not invited\")"
   ]
  },
  {
   "cell_type": "code",
   "execution_count": 101,
   "metadata": {},
   "outputs": [
    {
     "name": "stdout",
     "output_type": "stream",
     "text": [
      "Kauser sorry u are not invited\n"
     ]
    }
   ],
   "source": [
    "change_list = new_guest_list.pop()\n",
    "print(change_list.title()+\" \"+\"sorry u are not invited\")"
   ]
  },
  {
   "cell_type": "code",
   "execution_count": 102,
   "metadata": {},
   "outputs": [
    {
     "name": "stdout",
     "output_type": "stream",
     "text": [
      "fatima  you are still invited\n"
     ]
    }
   ],
   "source": [
    "print(new_guest_list[1]+\" \"+ \" you are still invited\")"
   ]
  },
  {
   "cell_type": "code",
   "execution_count": 103,
   "metadata": {},
   "outputs": [
    {
     "name": "stdout",
     "output_type": "stream",
     "text": [
      "Ch Naeem  you are still invited\n"
     ]
    }
   ],
   "source": [
    "print(new_guest_list[0]+\" \"+ \" you are still invited\")"
   ]
  },
  {
   "cell_type": "code",
   "execution_count": 104,
   "metadata": {},
   "outputs": [
    {
     "data": {
      "text/plain": [
       "['Ch Naeem', 'fatima', 'taj']"
      ]
     },
     "execution_count": 104,
     "metadata": {},
     "output_type": "execute_result"
    }
   ],
   "source": [
    "new_guest_list"
   ]
  },
  {
   "cell_type": "code",
   "execution_count": 105,
   "metadata": {},
   "outputs": [
    {
     "name": "stdout",
     "output_type": "stream",
     "text": [
      "['fatima', 'taj']\n"
     ]
    }
   ],
   "source": [
    "del new_guest_list[0]\n",
    "print(new_guest_list)"
   ]
  },
  {
   "cell_type": "code",
   "execution_count": 106,
   "metadata": {},
   "outputs": [
    {
     "name": "stdout",
     "output_type": "stream",
     "text": [
      "['taj']\n"
     ]
    }
   ],
   "source": [
    "del new_guest_list[0]\n",
    "print(new_guest_list)"
   ]
  },
  {
   "cell_type": "code",
   "execution_count": 107,
   "metadata": {},
   "outputs": [
    {
     "name": "stdout",
     "output_type": "stream",
     "text": [
      "[]\n"
     ]
    }
   ],
   "source": [
    "del new_guest_list[0]\n",
    "print(new_guest_list)"
   ]
  },
  {
   "cell_type": "markdown",
   "metadata": {},
   "source": [
    "# sorting list"
   ]
  },
  {
   "cell_type": "code",
   "execution_count": 22,
   "metadata": {},
   "outputs": [],
   "source": [
    "objects=['pen', 'abc', 'scale', 'rubber']"
   ]
  },
  {
   "cell_type": "code",
   "execution_count": 15,
   "metadata": {},
   "outputs": [
    {
     "name": "stdout",
     "output_type": "stream",
     "text": [
      "['abc', 'pen', 'rubber', 'scale']\n"
     ]
    }
   ],
   "source": [
    "objects.sort()\n",
    "print(objects)"
   ]
  },
  {
   "cell_type": "code",
   "execution_count": 17,
   "metadata": {},
   "outputs": [
    {
     "name": "stdout",
     "output_type": "stream",
     "text": [
      "['scale', 'rubber', 'pen', 'abc']\n"
     ]
    }
   ],
   "source": [
    "objects.sort(reverse=True)\n",
    "print(objects)"
   ]
  },
  {
   "cell_type": "code",
   "execution_count": 23,
   "metadata": {},
   "outputs": [
    {
     "name": "stdout",
     "output_type": "stream",
     "text": [
      "['abc', 'pen', 'rubber', 'scale']\n"
     ]
    }
   ],
   "source": [
    "print(sorted(objects))"
   ]
  },
  {
   "cell_type": "code",
   "execution_count": 24,
   "metadata": {},
   "outputs": [
    {
     "name": "stdout",
     "output_type": "stream",
     "text": [
      "['pen', 'abc', 'scale', 'rubber']\n"
     ]
    }
   ],
   "source": [
    "print(objects)"
   ]
  },
  {
   "cell_type": "code",
   "execution_count": null,
   "metadata": {},
   "outputs": [],
   "source": []
  },
  {
   "cell_type": "code",
   "execution_count": null,
   "metadata": {},
   "outputs": [],
   "source": []
  },
  {
   "cell_type": "code",
   "execution_count": null,
   "metadata": {},
   "outputs": [],
   "source": []
  },
  {
   "cell_type": "code",
   "execution_count": null,
   "metadata": {},
   "outputs": [],
   "source": []
  }
 ],
 "metadata": {
  "kernelspec": {
   "display_name": "Python 3",
   "language": "python",
   "name": "python3"
  },
  "language_info": {
   "codemirror_mode": {
    "name": "ipython",
    "version": 3
   },
   "file_extension": ".py",
   "mimetype": "text/x-python",
   "name": "python",
   "nbconvert_exporter": "python",
   "pygments_lexer": "ipython3",
   "version": "3.7.3"
  }
 },
 "nbformat": 4,
 "nbformat_minor": 2
}
