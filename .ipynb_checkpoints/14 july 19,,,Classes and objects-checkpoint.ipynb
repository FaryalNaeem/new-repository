{
 "cells": [
  {
   "cell_type": "markdown",
   "metadata": {},
   "source": [
    "# Classes"
   ]
  },
  {
   "cell_type": "code",
   "execution_count": null,
   "metadata": {},
   "outputs": [],
   "source": [
    "# In OOP We make some standards or templates that are firstly made ,,and like models ....After that if we mke its copies they \n",
    "#they all are its obects if they have have same propertes and behaviors.Any change in objects atributes will give error."
   ]
  },
  {
   "cell_type": "code",
   "execution_count": null,
   "metadata": {},
   "outputs": [],
   "source": []
  },
  {
   "cell_type": "code",
   "execution_count": 80,
   "metadata": {},
   "outputs": [],
   "source": [
    "class Mobiles():\n",
    "    #attribuutes>>>>>> variables\n",
    "        def __init__(self,brand,colour,memory,ram,price='free'):\n",
    "            self.MobileColour = colour\n",
    "            self.MobileMemory = memory\n",
    "            self.MobilePrice = price\n",
    "            self.MobileRam = ram\n",
    "    #behaviors\n",
    "        def makeCall(self) :\n",
    "            print('mobile is dialing')\n",
    "        def recvCall(self) :\n",
    "            print('receive a call')\n",
    "        def sendMsg(self) :\n",
    "            print('mobile is sending a message')\n",
    "        def sendingMsg(self) :\n",
    "            print('mobile is sending message')\n",
    "        \n",
    "            \n",
    "        \n",
    "    "
   ]
  },
  {
   "cell_type": "code",
   "execution_count": null,
   "metadata": {},
   "outputs": [],
   "source": [
    "#self avoid overwrite in each atrribute which is same for eveery object of class.every time a new copy is made for colour,\n",
    "#colour given for object2 will not overwrite the object1 but majke another copy"
   ]
  },
  {
   "cell_type": "code",
   "execution_count": 15,
   "metadata": {},
   "outputs": [],
   "source": [
    "mobile1 = Mobiles('Nokia', 'black', '16GB', '4GB', 10000)"
   ]
  },
  {
   "cell_type": "code",
   "execution_count": 16,
   "metadata": {},
   "outputs": [],
   "source": [
    "mobile2 = Mobiles('Nokia', 'black', '16GB', '4GB')"
   ]
  },
  {
   "cell_type": "code",
   "execution_count": 18,
   "metadata": {},
   "outputs": [
    {
     "data": {
      "text/plain": [
       "'black'"
      ]
     },
     "execution_count": 18,
     "metadata": {},
     "output_type": "execute_result"
    }
   ],
   "source": [
    "mobile1.MobileColour"
   ]
  },
  {
   "cell_type": "code",
   "execution_count": 22,
   "metadata": {},
   "outputs": [
    {
     "data": {
      "text/plain": [
       "'4GB'"
      ]
     },
     "execution_count": 22,
     "metadata": {},
     "output_type": "execute_result"
    }
   ],
   "source": [
    "mobile1.MobileRam"
   ]
  },
  {
   "cell_type": "code",
   "execution_count": 23,
   "metadata": {},
   "outputs": [
    {
     "name": "stdout",
     "output_type": "stream",
     "text": [
      "mobile is dialing\n"
     ]
    }
   ],
   "source": [
    "mobile1.makeCall()"
   ]
  },
  {
   "cell_type": "code",
   "execution_count": 24,
   "metadata": {
    "scrolled": true
   },
   "outputs": [
    {
     "name": "stdout",
     "output_type": "stream",
     "text": [
      "receive a call\n"
     ]
    }
   ],
   "source": [
    "mobile1.recvCall()"
   ]
  },
  {
   "cell_type": "code",
   "execution_count": 28,
   "metadata": {},
   "outputs": [],
   "source": [
    "class Mobiles():\n",
    "    #attribuutes>>>>>> variables\n",
    "        def __init__(self,brand,colour,memory,ram,price='free'):\n",
    "            self.MobileBrand = brand\n",
    "            self.MobileColour = colour\n",
    "            self.MobileMemory = memory\n",
    "            self.MobilePrice = price\n",
    "            self.MobileRam = ram\n",
    "    #behaviors\n",
    "        def makeCall(self) :\n",
    "            print(f'{self.MobileBrand} is dialing')\n",
    "        def recvCall(self) :\n",
    "            print('receive a call')\n",
    "        "
   ]
  },
  {
   "cell_type": "code",
   "execution_count": 29,
   "metadata": {},
   "outputs": [],
   "source": [
    "mobile1 = Mobiles('Nokia', 'black', '16GB', '4GB', 10000)"
   ]
  },
  {
   "cell_type": "code",
   "execution_count": 30,
   "metadata": {},
   "outputs": [],
   "source": [
    "mobile2 = Mobiles('Samsung', 'black', '16GB', '4GB')"
   ]
  },
  {
   "cell_type": "code",
   "execution_count": 34,
   "metadata": {},
   "outputs": [],
   "source": [
    "#calling objects"
   ]
  },
  {
   "cell_type": "code",
   "execution_count": 32,
   "metadata": {},
   "outputs": [
    {
     "name": "stdout",
     "output_type": "stream",
     "text": [
      "Nokia is dialing\n"
     ]
    }
   ],
   "source": [
    "mobile1.makeCall()"
   ]
  },
  {
   "cell_type": "code",
   "execution_count": 33,
   "metadata": {},
   "outputs": [
    {
     "name": "stdout",
     "output_type": "stream",
     "text": [
      "Samsung is dialing\n"
     ]
    }
   ],
   "source": [
    "mobile2.makeCall()"
   ]
  },
  {
   "cell_type": "code",
   "execution_count": 35,
   "metadata": {},
   "outputs": [],
   "source": [
    "#second class"
   ]
  },
  {
   "cell_type": "code",
   "execution_count": 70,
   "metadata": {},
   "outputs": [],
   "source": [
    "class student():\n",
    "    def __init__(self, name, gender, course, email):\n",
    "        self.name = name\n",
    "        self.gender = gender\n",
    "        self.course = course \n",
    "        self.email = email\n",
    "        self.gpa = 0\n",
    "    def getGPA(self):\n",
    "        print(f'The GPA of {self.name} is {self.gpa}')\n",
    "    def setGPA(self,newGPA):\n",
    "        self.gpa = newGPA\n",
    "    def study(self):\n",
    "        print(f'{self.name} is studing')\n",
    "    def exam(self):\n",
    "        print(f'{self.name} is giving exam')\n",
    "    def submitAssignment(self):\n",
    "        print(f'{self.name} is submitting assignment')\n",
    "        "
   ]
  },
  {
   "cell_type": "code",
   "execution_count": 71,
   "metadata": {},
   "outputs": [],
   "source": [
    "s1 = student('faryal', 'F', 'AI', 'faryalnaeem@gamil.com')\n",
    "s2 = student('bisma', 'F', 'AI', 'faryalnaeem@gamil.com')"
   ]
  },
  {
   "cell_type": "code",
   "execution_count": 72,
   "metadata": {},
   "outputs": [
    {
     "data": {
      "text/plain": [
       "'faryal'"
      ]
     },
     "execution_count": 72,
     "metadata": {},
     "output_type": "execute_result"
    }
   ],
   "source": [
    "s1.name\n"
   ]
  },
  {
   "cell_type": "code",
   "execution_count": 54,
   "metadata": {},
   "outputs": [
    {
     "name": "stdout",
     "output_type": "stream",
     "text": [
      "faryal is studing\n"
     ]
    }
   ],
   "source": [
    "s1.study()"
   ]
  },
  {
   "cell_type": "code",
   "execution_count": 55,
   "metadata": {},
   "outputs": [],
   "source": [
    "#attributes that are not mandatory..placed outside init"
   ]
  },
  {
   "cell_type": "code",
   "execution_count": 56,
   "metadata": {},
   "outputs": [
    {
     "name": "stdout",
     "output_type": "stream",
     "text": [
      "bisma is giving exam\n"
     ]
    }
   ],
   "source": [
    "s2.exam()"
   ]
  },
  {
   "cell_type": "code",
   "execution_count": 57,
   "metadata": {},
   "outputs": [
    {
     "data": {
      "text/plain": [
       "0"
      ]
     },
     "execution_count": 57,
     "metadata": {},
     "output_type": "execute_result"
    }
   ],
   "source": [
    "s1.gpa\n"
   ]
  },
  {
   "cell_type": "code",
   "execution_count": 58,
   "metadata": {},
   "outputs": [
    {
     "data": {
      "text/plain": [
       "0"
      ]
     },
     "execution_count": 58,
     "metadata": {},
     "output_type": "execute_result"
    }
   ],
   "source": [
    "s2.gpa"
   ]
  },
  {
   "cell_type": "code",
   "execution_count": 59,
   "metadata": {},
   "outputs": [],
   "source": [
    "s2.gpa = 3"
   ]
  },
  {
   "cell_type": "code",
   "execution_count": 60,
   "metadata": {},
   "outputs": [
    {
     "data": {
      "text/plain": [
       "3"
      ]
     },
     "execution_count": 60,
     "metadata": {},
     "output_type": "execute_result"
    }
   ],
   "source": [
    "s2.gpa"
   ]
  },
  {
   "cell_type": "code",
   "execution_count": 61,
   "metadata": {},
   "outputs": [
    {
     "data": {
      "text/plain": [
       "0"
      ]
     },
     "execution_count": 61,
     "metadata": {},
     "output_type": "execute_result"
    }
   ],
   "source": [
    "s1.gpa\n"
   ]
  },
  {
   "cell_type": "code",
   "execution_count": 62,
   "metadata": {},
   "outputs": [],
   "source": [
    "#UPDATING VALUE OF ATRIBUTE VIA  a FUNCTION"
   ]
  },
  {
   "cell_type": "code",
   "execution_count": 73,
   "metadata": {},
   "outputs": [
    {
     "name": "stdout",
     "output_type": "stream",
     "text": [
      "The GPA of faryal is 0\n"
     ]
    }
   ],
   "source": [
    "s1.getGPA()"
   ]
  },
  {
   "cell_type": "code",
   "execution_count": 74,
   "metadata": {},
   "outputs": [],
   "source": [
    "s1.setGPA(4)\n"
   ]
  },
  {
   "cell_type": "code",
   "execution_count": 75,
   "metadata": {},
   "outputs": [
    {
     "name": "stdout",
     "output_type": "stream",
     "text": [
      "The GPA of faryal is 4\n"
     ]
    }
   ],
   "source": [
    "s1.getGPA()"
   ]
  },
  {
   "cell_type": "code",
   "execution_count": 76,
   "metadata": {},
   "outputs": [
    {
     "name": "stdout",
     "output_type": "stream",
     "text": [
      "The GPA of bisma is 0\n"
     ]
    }
   ],
   "source": [
    "s2.getGPA()"
   ]
  },
  {
   "cell_type": "markdown",
   "metadata": {},
   "source": [
    "# Inheritance"
   ]
  },
  {
   "cell_type": "code",
   "execution_count": 77,
   "metadata": {},
   "outputs": [],
   "source": [
    "#code reuseability"
   ]
  },
  {
   "cell_type": "code",
   "execution_count": null,
   "metadata": {},
   "outputs": [],
   "source": [
    "class Mobiles():\n",
    "    #attribuutes>>>>>> variables\n",
    "        def __init__(self,brand,colour,memory,ram,price='free'):\n",
    "            self.MobileBrand = brand\n",
    "            self.MobileColour = colour\n",
    "            self.MobileMemory = memory\n",
    "            self.MobilePrice = price\n",
    "            self.MobileRam = ram\n",
    "    #behaviors\n",
    "        def makeCall(self) :\n",
    "            print(f'{self.MobileBrand} is dialing')\n",
    "        def recvCall(self) :\n",
    "            print('receive a call')\n",
    "        def keypad(self):\n",
    "            print('keys are pressed to call and message')"
   ]
  },
  {
   "cell_type": "code",
   "execution_count": 81,
   "metadata": {},
   "outputs": [],
   "source": [
    "class SmartMobile(Mobiles):\n",
    "    def __init__(self, brand, colour,memory,ram )\n",
    "        super()__init__(brand, colour,memory,ram ):\n",
    "            self.battery = \"10amp\"\n"
   ]
  },
  {
   "cell_type": "code",
   "execution_count": 82,
   "metadata": {},
   "outputs": [],
   "source": [
    "sm1= SmartMobile('Nokia', 'black', '16GB', '4GB', 10000)"
   ]
  },
  {
   "cell_type": "code",
   "execution_count": 1,
   "metadata": {},
   "outputs": [],
   "source": [
    "#Revision"
   ]
  },
  {
   "cell_type": "code",
   "execution_count": null,
   "metadata": {},
   "outputs": [],
   "source": [
    "class Mobiles():\n",
    "    def Mobiles__init__(self,brand,colour,model):\n",
    "    self.brand = brand\n",
    "    self.colour = colour\n",
    "    self.model = model\n"
   ]
  }
 ],
 "metadata": {
  "kernelspec": {
   "display_name": "Python 3",
   "language": "python",
   "name": "python3"
  },
  "language_info": {
   "codemirror_mode": {
    "name": "ipython",
    "version": 3
   },
   "file_extension": ".py",
   "mimetype": "text/x-python",
   "name": "python",
   "nbconvert_exporter": "python",
   "pygments_lexer": "ipython3",
   "version": "3.7.3"
  }
 },
 "nbformat": 4,
 "nbformat_minor": 2
}
