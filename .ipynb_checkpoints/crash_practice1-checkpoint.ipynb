{
 "cells": [
  {
   "cell_type": "code",
   "execution_count": 10,
   "metadata": {},
   "outputs": [
    {
     "name": "stdout",
     "output_type": "stream",
     "text": [
      "faryal is a good girl\n",
      "FARYAL IS A GOOD GIRL\n",
      "Faryal Is A Good Girl\n",
      "Faryal is a good girl\n"
     ]
    }
   ],
   "source": [
    "name = \"Faryal is a good girl\"\n",
    "print(name.lower()) \n",
    "print(name.upper())\n",
    "print(name.title())\n",
    "print(name)"
   ]
  },
  {
   "cell_type": "code",
   "execution_count": 12,
   "metadata": {},
   "outputs": [
    {
     "name": "stdout",
     "output_type": "stream",
     "text": [
      "enter your name:ZOYA\n",
      "zoya\n"
     ]
    }
   ],
   "source": [
    "c=input(\"enter your name:\")\n",
    "print(c.lower())"
   ]
  },
  {
   "cell_type": "code",
   "execution_count": 17,
   "metadata": {},
   "outputs": [
    {
     "name": "stdout",
     "output_type": "stream",
     "text": [
      "hello, Faryal naeem!\n"
     ]
    }
   ],
   "source": [
    "first_name = \"faryal\"\n",
    "last_name = \"naeem\"\n",
    "full_name = \"hello, \"+ first_name.title()+\" \" +last_name + \"!\"\n",
    "print(full_name)"
   ]
  },
  {
   "cell_type": "code",
   "execution_count": null,
   "metadata": {},
   "outputs": [],
   "source": []
  }
 ],
 "metadata": {
  "kernelspec": {
   "display_name": "Python 3",
   "language": "python",
   "name": "python3"
  },
  "language_info": {
   "codemirror_mode": {
    "name": "ipython",
    "version": 3
   },
   "file_extension": ".py",
   "mimetype": "text/x-python",
   "name": "python",
   "nbconvert_exporter": "python",
   "pygments_lexer": "ipython3",
   "version": "3.7.3"
  }
 },
 "nbformat": 4,
 "nbformat_minor": 2
}
