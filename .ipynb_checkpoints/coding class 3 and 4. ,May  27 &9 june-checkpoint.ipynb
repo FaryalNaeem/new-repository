{
 "cells": [
  {
   "cell_type": "markdown",
   "metadata": {},
   "source": [
    "# if statement\n"
   ]
  },
  {
   "cell_type": "code",
   "execution_count": 6,
   "metadata": {},
   "outputs": [],
   "source": [
    "a = 10\n",
    "b= 20"
   ]
  },
  {
   "cell_type": "code",
   "execution_count": 7,
   "metadata": {},
   "outputs": [
    {
     "data": {
      "text/plain": [
       "False"
      ]
     },
     "execution_count": 7,
     "metadata": {},
     "output_type": "execute_result"
    }
   ],
   "source": [
    "a>b"
   ]
  },
  {
   "cell_type": "code",
   "execution_count": 13,
   "metadata": {},
   "outputs": [
    {
     "name": "stdout",
     "output_type": "stream",
     "text": [
      "your value is greater\n"
     ]
    }
   ],
   "source": [
    "if a>b:\n",
    "    print(\"it is true\")\n",
    "    print(\"it is true\")\n",
    "else:\n",
    "    print(\"your value is greater\")\n",
    "    "
   ]
  },
  {
   "cell_type": "code",
   "execution_count": 18,
   "metadata": {},
   "outputs": [
    {
     "name": "stdout",
     "output_type": "stream",
     "text": [
      "your a value is greater\n"
     ]
    }
   ],
   "source": [
    "a = 5\n",
    "b = 6\n",
    "if a>b:\n",
    "    print(\"your a value is less than b\")\n",
    "else:\n",
    "    print(\"your a value is greater\")"
   ]
  },
  {
   "cell_type": "code",
   "execution_count": 19,
   "metadata": {},
   "outputs": [
    {
     "name": "stdout",
     "output_type": "stream",
     "text": [
      "good\n"
     ]
    }
   ],
   "source": [
    "if a + b == 11:\n",
    "    print(\"good\")\n",
    "else:\n",
    "    print(\"wrong\")"
   ]
  },
  {
   "cell_type": "code",
   "execution_count": 20,
   "metadata": {},
   "outputs": [
    {
     "name": "stdout",
     "output_type": "stream",
     "text": [
      "23\n"
     ]
    }
   ],
   "source": [
    "temp =input()"
   ]
  },
  {
   "cell_type": "code",
   "execution_count": 1,
   "metadata": {},
   "outputs": [
    {
     "name": "stdout",
     "output_type": "stream",
     "text": [
      "Enter your temperature value:20\n",
      "the temp is normal today\n"
     ]
    }
   ],
   "source": [
    "temp = int(input(\"Enter your temperature value:\"))#type caste\n",
    "if temp>30:\n",
    "    print(\"the temp is hot today\")\n",
    "else:\n",
    "    print(\"the temp is normal today\")"
   ]
  },
  {
   "cell_type": "markdown",
   "metadata": {},
   "source": [
    "# Nested if's"
   ]
  },
  {
   "cell_type": "code",
   "execution_count": 7,
   "metadata": {},
   "outputs": [
    {
     "name": "stdout",
     "output_type": "stream",
     "text": [
      "Do you have your cnic:yes\n",
      "you can go in\n",
      "Is your name in listyes\n",
      "caste your vote\n"
     ]
    }
   ],
   "source": [
    "cnic = input(\"Do you have your cnic:\")\n",
    "if cnic == 'yes':\n",
    "    print(\"you can go in\")\n",
    "    nameInList = input(\"Is your name in list\")\n",
    "    if nameInList == 'yes':\n",
    "        print(\"caste your vote\")\n",
    "    else:\n",
    "        print(\"you can not caste vote\")\n",
    "else:\n",
    "    print(\"you can not caste vote\")\n",
    "\n",
    "        "
   ]
  },
  {
   "cell_type": "code",
   "execution_count": null,
   "metadata": {},
   "outputs": [],
   "source": [
    "education@piaic.org"
   ]
  },
  {
   "cell_type": "markdown",
   "metadata": {},
   "source": [
    "# if elif else "
   ]
  },
  {
   "cell_type": "code",
   "execution_count": 5,
   "metadata": {},
   "outputs": [
    {
     "name": "stdout",
     "output_type": "stream",
     "text": [
      "enter your marks:50\n",
      "you are ungraded try again.your marks are 50 or less than 50 and your grade is F\n",
      "your marks are 50 and your grade is  \n"
     ]
    }
   ],
   "source": [
    "marks = int(input(\"enter your marks:\"))\n",
    "grade = \" \"\n",
    "if marks >=90:\n",
    "    grade=\"A*\"\n",
    "elif marks >=80:\n",
    "    grade=\"A\"\n",
    "elif marks >=70:\n",
    "    grade=\"B\"\n",
    "elif marks >=60:\n",
    "    grade=\"C\"\n",
    "else:\n",
    "    print(\"you are ungraded try again.your marks are 50 or less than 50 and your grade is F\")\n",
    "print(f\"your marks are {marks} and your grade is {grade}\")\n",
    "\n",
    "    "
   ]
  },
  {
   "cell_type": "code",
   "execution_count": 9,
   "metadata": {},
   "outputs": [
    {
     "name": "stdout",
     "output_type": "stream",
     "text": [
      "enter your value4\n"
     ]
    }
   ],
   "source": [
    "# even_no= int(input(\"enter your value:\"))\n",
    "# b=even_no%2\n",
    "# if b == 2:\n",
    "#     print(\"value is even\") by control forward slash,for para comments use single quote"
   ]
  },
  {
   "cell_type": "code",
   "execution_count": 9,
   "metadata": {},
   "outputs": [
    {
     "name": "stdout",
     "output_type": "stream",
     "text": [
      "do you have cnic:yes\n",
      "is your name in list:yes\n",
      "please caste your vote\n"
     ]
    }
   ],
   "source": [
    "cnic = input(\"do you have cnic:\")\n",
    "nameInList =input(\"is your name in list:\")\n",
    "if cnic == 'yes' and nameInList == 'yes':\n",
    "    print('please caste your vote')\n",
    "else:\n",
    "    print('you cannot vote')\n",
    "# and is same as if meansevery condition should be true,,or is same as elif statement means kuj b aik theek hojae condition"
   ]
  },
  {
   "cell_type": "markdown",
   "metadata": {},
   "source": [
    "# Lists"
   ]
  },
  {
   "cell_type": "code",
   "execution_count": 1,
   "metadata": {},
   "outputs": [
    {
     "ename": "SyntaxError",
     "evalue": "invalid syntax (<ipython-input-1-82a1fa15f5a6>, line 5)",
     "output_type": "error",
     "traceback": [
      "\u001b[1;36m  File \u001b[1;32m\"<ipython-input-1-82a1fa15f5a6>\"\u001b[1;36m, line \u001b[1;32m5\u001b[0m\n\u001b[1;33m    type students\u001b[0m\n\u001b[1;37m                ^\u001b[0m\n\u001b[1;31mSyntaxError\u001b[0m\u001b[1;31m:\u001b[0m invalid syntax\n"
     ]
    }
   ],
   "source": [
    "students = [\"fatima\", \"asad\", \"subhan\"]\n",
    "students[1]\n",
    "#list can hold multiple data type ...and sizis not define\n",
    "#list is also a sub data type"
   ]
  },
  {
   "cell_type": "code",
   "execution_count": 2,
   "metadata": {},
   "outputs": [
    {
     "ename": "SyntaxError",
     "evalue": "invalid syntax (<ipython-input-2-df8e99912c10>, line 1)",
     "output_type": "error",
     "traceback": [
      "\u001b[1;36m  File \u001b[1;32m\"<ipython-input-2-df8e99912c10>\"\u001b[1;36m, line \u001b[1;32m1\u001b[0m\n\u001b[1;33m    type students\u001b[0m\n\u001b[1;37m                ^\u001b[0m\n\u001b[1;31mSyntaxError\u001b[0m\u001b[1;31m:\u001b[0m invalid syntax\n"
     ]
    }
   ],
   "source": [
    "type students"
   ]
  },
  {
   "cell_type": "code",
   "execution_count": null,
   "metadata": {},
   "outputs": [],
   "source": [
    "a= ['baba', 12, \"true\"]\n"
   ]
  },
  {
   "cell_type": "code",
   "execution_count": 17,
   "metadata": {},
   "outputs": [],
   "source": [
    "students.append(\"faryal\")"
   ]
  },
  {
   "cell_type": "code",
   "execution_count": 18,
   "metadata": {},
   "outputs": [
    {
     "data": {
      "text/plain": [
       "['fatima', 'asad', 'subhan', 'faryal']"
      ]
     },
     "execution_count": 18,
     "metadata": {},
     "output_type": "execute_result"
    }
   ],
   "source": [
    "students"
   ]
  },
  {
   "cell_type": "code",
   "execution_count": 19,
   "metadata": {},
   "outputs": [],
   "source": [
    "students.insert(2,\"nana\")"
   ]
  },
  {
   "cell_type": "code",
   "execution_count": 20,
   "metadata": {},
   "outputs": [
    {
     "data": {
      "text/plain": [
       "['fatima', 'asad', 'nana', 'subhan', 'faryal']"
      ]
     },
     "execution_count": 20,
     "metadata": {},
     "output_type": "execute_result"
    }
   ],
   "source": [
    "students"
   ]
  },
  {
   "cell_type": "code",
   "execution_count": 21,
   "metadata": {},
   "outputs": [],
   "source": [
    "del students[0]"
   ]
  },
  {
   "cell_type": "code",
   "execution_count": 22,
   "metadata": {},
   "outputs": [
    {
     "data": {
      "text/plain": [
       "['asad', 'nana', 'subhan', 'faryal']"
      ]
     },
     "execution_count": 22,
     "metadata": {},
     "output_type": "execute_result"
    }
   ],
   "source": [
    "students"
   ]
  },
  {
   "cell_type": "code",
   "execution_count": 24,
   "metadata": {},
   "outputs": [],
   "source": [
    "students[2]=\"haha\"#replace object"
   ]
  },
  {
   "cell_type": "code",
   "execution_count": 25,
   "metadata": {},
   "outputs": [
    {
     "data": {
      "text/plain": [
       "['asad', 'nana', 'haha', 'faryal']"
      ]
     },
     "execution_count": 25,
     "metadata": {},
     "output_type": "execute_result"
    }
   ],
   "source": [
    "students"
   ]
  },
  {
   "cell_type": "code",
   "execution_count": 10,
   "metadata": {},
   "outputs": [
    {
     "data": {
      "text/plain": [
       "['nana', 'fatima', 'nani', 'dada', 'dadi']"
      ]
     },
     "execution_count": 10,
     "metadata": {},
     "output_type": "execute_result"
    }
   ],
   "source": [
    "studentss=['nana', 'nani', 'dada', 'dadi'] \n",
    "#insert\n",
    "studentss.insert(1,'fatima') #to check signature shift+tab\n",
    "studentss"
   ]
  },
  {
   "cell_type": "code",
   "execution_count": 12,
   "metadata": {},
   "outputs": [
    {
     "data": {
      "text/plain": [
       "['nana', 'fatima', 'nani', 'dada', 'dadi', 'amna', 'amna']"
      ]
     },
     "execution_count": 12,
     "metadata": {},
     "output_type": "execute_result"
    }
   ],
   "source": [
    "studentss.insert(100,\"amna\")\n",
    "studentss"
   ]
  },
  {
   "cell_type": "code",
   "execution_count": 13,
   "metadata": {},
   "outputs": [
    {
     "data": {
      "text/plain": [
       "4"
      ]
     },
     "execution_count": 13,
     "metadata": {},
     "output_type": "execute_result"
    }
   ],
   "source": [
    "studentss.index('dadi')#to find the indeex no of string"
   ]
  },
  {
   "cell_type": "code",
   "execution_count": 21,
   "metadata": {},
   "outputs": [],
   "source": [
    "cities = ['karachi', 'lahore', 'islamabad', 'sukhar']"
   ]
  },
  {
   "cell_type": "code",
   "execution_count": 22,
   "metadata": {},
   "outputs": [],
   "source": [
    "cities.append('karachi')"
   ]
  },
  {
   "cell_type": "code",
   "execution_count": 23,
   "metadata": {},
   "outputs": [
    {
     "data": {
      "text/plain": [
       "['karachi', 'islamabad', 'sukhar', 'karachi']"
      ]
     },
     "execution_count": 23,
     "metadata": {},
     "output_type": "execute_result"
    }
   ],
   "source": [
    "cities.remove('lahore')\n",
    "cities"
   ]
  },
  {
   "cell_type": "code",
   "execution_count": null,
   "metadata": {},
   "outputs": [],
   "source": []
  }
 ],
 "metadata": {
  "kernelspec": {
   "display_name": "Python 3",
   "language": "python",
   "name": "python3"
  },
  "language_info": {
   "codemirror_mode": {
    "name": "ipython",
    "version": 3
   },
   "file_extension": ".py",
   "mimetype": "text/x-python",
   "name": "python",
   "nbconvert_exporter": "python",
   "pygments_lexer": "ipython3",
   "version": "3.7.3"
  }
 },
 "nbformat": 4,
 "nbformat_minor": 2
}
