{
 "cells": [
  {
   "cell_type": "markdown",
   "metadata": {},
   "source": [
    "# keywords, arguments"
   ]
  },
  {
   "cell_type": "code",
   "execution_count": 3,
   "metadata": {},
   "outputs": [],
   "source": [
    "def car(model,year):\n",
    "    print(model, year)"
   ]
  },
  {
   "cell_type": "code",
   "execution_count": 4,
   "metadata": {},
   "outputs": [
    {
     "name": "stdout",
     "output_type": "stream",
     "text": [
      "2019 toyota\n"
     ]
    }
   ],
   "source": [
    "car(2019,'toyota')"
   ]
  },
  {
   "cell_type": "code",
   "execution_count": 15,
   "metadata": {},
   "outputs": [],
   "source": [
    "#so we use keyword argument to avoid position error means we will give keyword along with argumeent."
   ]
  },
  {
   "cell_type": "code",
   "execution_count": 6,
   "metadata": {},
   "outputs": [
    {
     "name": "stdout",
     "output_type": "stream",
     "text": [
      "toyota 2019\n"
     ]
    }
   ],
   "source": [
    "car(model='toyota',year=2019)"
   ]
  },
  {
   "cell_type": "code",
   "execution_count": 12,
   "metadata": {},
   "outputs": [],
   "source": [
    "def name (fname,lname):\n",
    "    print(f'firstname is {fname}')\n",
    "    print(f'lastname is {lname}')"
   ]
  },
  {
   "cell_type": "code",
   "execution_count": 13,
   "metadata": {},
   "outputs": [
    {
     "name": "stdout",
     "output_type": "stream",
     "text": [
      "firstname is naeem\n",
      "lastname is farayl\n"
     ]
    }
   ],
   "source": [
    "name('naeem', 'farayl')"
   ]
  },
  {
   "cell_type": "code",
   "execution_count": 14,
   "metadata": {},
   "outputs": [
    {
     "name": "stdout",
     "output_type": "stream",
     "text": [
      "firstname is faryal\n",
      "lastname is naeem\n"
     ]
    }
   ],
   "source": [
    "name(fname='faryal',lname='naeem')"
   ]
  },
  {
   "cell_type": "code",
   "execution_count": 36,
   "metadata": {},
   "outputs": [
    {
     "ename": "NameError",
     "evalue": "name 'fname' is not defined",
     "output_type": "error",
     "traceback": [
      "\u001b[1;31m---------------------------------------------------------------------------\u001b[0m",
      "\u001b[1;31mNameError\u001b[0m                                 Traceback (most recent call last)",
      "\u001b[1;32m<ipython-input-36-fcba5c6860c1>\u001b[0m in \u001b[0;36m<module>\u001b[1;34m\u001b[0m\n\u001b[1;32m----> 1\u001b[1;33m \u001b[0mprint\u001b[0m\u001b[1;33m(\u001b[0m\u001b[0mfname\u001b[0m\u001b[1;33m)\u001b[0m\u001b[1;33m\u001b[0m\u001b[1;33m\u001b[0m\u001b[0m\n\u001b[0m",
      "\u001b[1;31mNameError\u001b[0m: name 'fname' is not defined"
     ]
    }
   ],
   "source": [
    "print(fname)#error occur because it is  a local variable"
   ]
  },
  {
   "cell_type": "code",
   "execution_count": 20,
   "metadata": {},
   "outputs": [],
   "source": [
    "def name(fname,mname,lname):\n",
    "    print(f'firstname is {fanme}')\n",
    "    print(f'lastname is {lname}')\n",
    "    print(f'midddle name is {mname}')\n",
    "    \n",
    "    "
   ]
  },
  {
   "cell_type": "code",
   "execution_count": 22,
   "metadata": {},
   "outputs": [
    {
     "ename": "SyntaxError",
     "evalue": "positional argument follows keyword argument (<ipython-input-22-990e9076ccab>, line 1)",
     "output_type": "error",
     "traceback": [
      "\u001b[1;36m  File \u001b[1;32m\"<ipython-input-22-990e9076ccab>\"\u001b[1;36m, line \u001b[1;32m1\u001b[0m\n\u001b[1;33m    name('faryal',mname='B','naeem')\u001b[0m\n\u001b[1;37m                           ^\u001b[0m\n\u001b[1;31mSyntaxError\u001b[0m\u001b[1;31m:\u001b[0m positional argument follows keyword argument\n"
     ]
    }
   ],
   "source": [
    "name('faryal',mname='B','naeem')#error becuse keywords arguments last me rakhne hain."
   ]
  },
  {
   "cell_type": "code",
   "execution_count": 28,
   "metadata": {},
   "outputs": [],
   "source": [
    "def name(fname,lname,mname):\n",
    "    print(f'firstname is {fname}')\n",
    "    print(f'lastname is {lname}')\n",
    "    print(f'midddle name is {mname}')\n",
    "    "
   ]
  },
  {
   "cell_type": "code",
   "execution_count": 29,
   "metadata": {},
   "outputs": [
    {
     "name": "stdout",
     "output_type": "stream",
     "text": [
      "firstname is faryal\n",
      "lastname is naeem\n",
      "midddle name is B\n"
     ]
    }
   ],
   "source": [
    "name('faryal','naeem',mname='B')"
   ]
  },
  {
   "cell_type": "markdown",
   "metadata": {},
   "source": [
    "# Arbitaury Number of arguments"
   ]
  },
  {
   "cell_type": "code",
   "execution_count": 30,
   "metadata": {},
   "outputs": [],
   "source": [
    "def pizza(size,flavour, *toppings):\n",
    "    print(size,flavour)\n",
    "    print(toppings)\n",
    "    "
   ]
  },
  {
   "cell_type": "code",
   "execution_count": 35,
   "metadata": {},
   "outputs": [
    {
     "name": "stdout",
     "output_type": "stream",
     "text": [
      "large chicken tikka\n",
      "('extra cheese', 'olives')\n"
     ]
    }
   ],
   "source": [
    "pizza('large','chicken tikka','extra cheese','olives')"
   ]
  },
  {
   "cell_type": "code",
   "execution_count": 37,
   "metadata": {},
   "outputs": [],
   "source": [
    "def pizza(size,flavour, *toppings):\n",
    "    print(size,flavour)\n",
    "    print(toppings)\n",
    "    "
   ]
  },
  {
   "cell_type": "code",
   "execution_count": 38,
   "metadata": {},
   "outputs": [
    {
     "name": "stdout",
     "output_type": "stream",
     "text": [
      "medium chicken tikka\n",
      "('pepperoni', 'olives', 'extra cheez')\n"
     ]
    }
   ],
   "source": [
    "pizza('medium','chicken tikka','pepperoni','olives','extra cheez')"
   ]
  },
  {
   "cell_type": "markdown",
   "metadata": {},
   "source": [
    "# Double sterics"
   ]
  },
  {
   "cell_type": "code",
   "execution_count": 39,
   "metadata": {},
   "outputs": [],
   "source": [
    "def car(year,model,**specs):\n",
    "    print(model,year)\n",
    "    print(specs)"
   ]
  },
  {
   "cell_type": "code",
   "execution_count": 41,
   "metadata": {},
   "outputs": [
    {
     "name": "stdout",
     "output_type": "stream",
     "text": [
      "prius 2019\n",
      "{'transmission': 'automatic'}\n"
     ]
    }
   ],
   "source": [
    "car(2019,'prius',transmission='automatic')"
   ]
  },
  {
   "cell_type": "code",
   "execution_count": 42,
   "metadata": {},
   "outputs": [
    {
     "name": "stdout",
     "output_type": "stream",
     "text": [
      "prius 2019\n",
      "{'transmission': 'automatic', 'power': 'yes'}\n"
     ]
    }
   ],
   "source": [
    "car(2019,'prius',transmission='automatic',power='yes')"
   ]
  },
  {
   "cell_type": "markdown",
   "metadata": {},
   "source": [
    "# Functions as a variable"
   ]
  },
  {
   "cell_type": "code",
   "execution_count": 77,
   "metadata": {},
   "outputs": [],
   "source": [
    "def add(a,b):\n",
    "    c=a + b\n",
    "    return c\n",
    "    \n"
   ]
  },
  {
   "cell_type": "code",
   "execution_count": 78,
   "metadata": {},
   "outputs": [],
   "source": [
    "def sub(a,b):\n",
    "    c= a - b\n",
    "    return c"
   ]
  },
  {
   "cell_type": "code",
   "execution_count": 79,
   "metadata": {},
   "outputs": [
    {
     "name": "stdout",
     "output_type": "stream",
     "text": [
      "7\n"
     ]
    }
   ],
   "source": [
    "result= add(2,2) + sub(6,3)\n",
    "print(result)"
   ]
  },
  {
   "cell_type": "code",
   "execution_count": 80,
   "metadata": {},
   "outputs": [
    {
     "name": "stdout",
     "output_type": "stream",
     "text": [
      "sanaali\n"
     ]
    }
   ],
   "source": [
    "result= add('sana','ali') \n",
    "print(result)#cannot sub "
   ]
  },
  {
   "cell_type": "markdown",
   "metadata": {},
   "source": [
    "# While loop"
   ]
  },
  {
   "cell_type": "code",
   "execution_count": 84,
   "metadata": {},
   "outputs": [
    {
     "name": "stdout",
     "output_type": "stream",
     "text": [
      "0\n",
      "1\n",
      "2\n",
      "3\n",
      "4\n",
      "5\n",
      "6\n",
      "7\n",
      "8\n",
      "9\n"
     ]
    }
   ],
   "source": [
    "for a in range (10):\n",
    "    print(a)"
   ]
  },
  {
   "cell_type": "code",
   "execution_count": 6,
   "metadata": {},
   "outputs": [
    {
     "name": "stdout",
     "output_type": "stream",
     "text": [
      "0\n",
      "1\n",
      "2\n",
      "3\n",
      "4\n",
      "5\n",
      "6\n",
      "7\n",
      "8\n",
      "9\n"
     ]
    }
   ],
   "source": [
    "a=0\n",
    "while a<10:\n",
    "    print(a)\n",
    "    a=a+1\n",
    "    "
   ]
  },
  {
   "cell_type": "code",
   "execution_count": 7,
   "metadata": {},
   "outputs": [
    {
     "name": "stdout",
     "output_type": "stream",
     "text": [
      "enter yor toppingjj\n",
      "enter yor toppingff\n",
      "enter yor toppingff\n",
      "enter yor toppingrr\n",
      "enter yor toppingrrrr\n"
     ]
    }
   ],
   "source": [
    "toppings=[]\n",
    "for a in range (5):\n",
    "    topping=input('enter yor topping')\n",
    "    toppings.append(topping)\n",
    "\n",
    "    #it will enter all 3 value even if you want less or more"
   ]
  },
  {
   "cell_type": "code",
   "execution_count": 2,
   "metadata": {},
   "outputs": [
    {
     "name": "stdout",
     "output_type": "stream",
     "text": [
      "Enter your toppingsjj\n",
      "Enter your toppingskkkk\n",
      "Enter your toppingskkkk\n",
      "Enter your toppingsq\n",
      "['jj', 'kkkk', 'kkkk', 'q']\n"
     ]
    }
   ],
   "source": [
    "toppings=[]\n",
    "flag = True\n",
    "while flag:\n",
    "    topping=input('Enter your toppings')\n",
    "    toppings.append(topping)\n",
    "    if topping =='q':\n",
    "        flag = False\n",
    "print(toppings)"
   ]
  },
  {
   "cell_type": "code",
   "execution_count": null,
   "metadata": {},
   "outputs": [],
   "source": [
    "toppings=[]\n",
    "flag = True\n",
    "while flag:\n",
    "    topping=input('Enter your toppings')\n",
    "    if topping =='q':\n",
    "        flag=False\n",
    "    else:\n",
    "        toppings.append(topping)\n",
    "print(toppings)"
   ]
  },
  {
   "cell_type": "code",
   "execution_count": 2,
   "metadata": {},
   "outputs": [
    {
     "name": "stdout",
     "output_type": "stream",
     "text": [
      "Enter your order\n",
      "Enter your flavourTikka\n",
      "It is not available\n"
     ]
    }
   ],
   "source": [
    "available_flavours =['Fajita', 'Tikka', 'Mexican']\n",
    "available_size= ['large', 'small', 'medium']\n",
    "available_toppings= ['Olives', 'peperoni']\n",
    "print('Enter your order')\n",
    "flag = True\n",
    "while flag:\n",
    "    flavour=input('Enter your flavour')\n",
    "    if flavour not in available_flavours:\n",
    "        print(available_flavours)\n",
    "        print('Choose another one')\n",
    "    else:\n",
    "        print('It is not available')\n",
    "        flag= False\n",
    "    \n",
    "    "
   ]
  },
  {
   "cell_type": "code",
   "execution_count": 1,
   "metadata": {},
   "outputs": [],
   "source": [
    "# practice for while loop"
   ]
  },
  {
   "cell_type": "code",
   "execution_count": 4,
   "metadata": {},
   "outputs": [
    {
     "name": "stdout",
     "output_type": "stream",
     "text": [
      "0\n",
      "1\n",
      "2\n",
      "3\n",
      "4\n",
      "5\n",
      "6\n",
      "7\n",
      "8\n",
      "9\n"
     ]
    }
   ],
   "source": [
    "a=0\n",
    "while a<10:\n",
    "    print(a)\n",
    "    a= a+1"
   ]
  },
  {
   "cell_type": "code",
   "execution_count": 4,
   "metadata": {},
   "outputs": [
    {
     "name": "stdout",
     "output_type": "stream",
     "text": [
      "Enter you city name:q\n",
      "Quetta\n"
     ]
    }
   ],
   "source": [
    "cleanest_cities= ['karachi', 'Lahore', 'Quetta', 'peshawar']\n",
    "user_input = ''\n",
    "while user_input!= 'q':\n",
    "    user_input= input(\"Enter you city name:\")\n",
    "    if user_input != 'q':\n",
    "        for clean_city in cleanest_cities:\n",
    "            if user_input == clean_city:\n",
    "                print(\"It is one of cleanest city.\")\n",
    "                break\n",
    "        else:\n",
    "            print('It is not a clean city')\n",
    "\n",
    "print(clean_city)"
   ]
  },
  {
   "cell_type": "code",
   "execution_count": 6,
   "metadata": {},
   "outputs": [
    {
     "name": "stdout",
     "output_type": "stream",
     "text": [
      "Enter your city:karachi\n",
      "It is one of cleanest city.\n",
      "Enter your city:q\n"
     ]
    }
   ],
   "source": [
    "cleanest_cities= ['karachi', 'Lahore', 'Quetta', 'peshawar']\n",
    "flag = True\n",
    "while flag == True:\n",
    "    user_input = input('Enter your city:')\n",
    "    if user_input != 'q':\n",
    "        for clean_city in cleanest_cities:\n",
    "            if user_input == clean_city:\n",
    "                print('It is one of cleanest city.')\n",
    "    else:\n",
    "        flag = False\n",
    "                      "
   ]
  },
  {
   "cell_type": "code",
   "execution_count": 10,
   "metadata": {},
   "outputs": [
    {
     "name": "stdout",
     "output_type": "stream",
     "text": [
      "Enter you city name:karachi\n",
      "It is one of cleanest city.\n",
      "Enter you city name:q\n"
     ]
    }
   ],
   "source": [
    "cleanest_cities= ['karachi', 'Lahore', 'Quetta', 'peshawar']\n",
    "user_input = ''\n",
    "while user_input!= 'q':\n",
    "    user_input= input(\"Enter you city name:\")\n",
    "    for clean_city in cleanest_cities:\n",
    "         if user_input == clean_city:\n",
    "            print(\"It is one of cleanest city.\")\n",
    "            break\n",
    "\n"
   ]
  },
  {
   "cell_type": "code",
   "execution_count": 11,
   "metadata": {},
   "outputs": [
    {
     "name": "stdout",
     "output_type": "stream",
     "text": [
      "Enter your fav topping or quit:fajita\n",
      "Enter your fav topping or quit:cheeze\n",
      "Enter your fav topping or quit:extra cheeze\n",
      "Enter your fav topping or quit:q\n",
      "Enter your fav topping or quit:quit\n",
      "['fajita', 'cheeze', 'extra cheeze', 'q', 'quit']\n"
     ]
    }
   ],
   "source": [
    "toppings= []\n",
    "flag = True\n",
    "while flag:\n",
    "    topping=input(\"Enter your fav topping or quit:\")\n",
    "    toppings.append(topping)\n",
    "    if topping == 'quit':\n",
    "        flag = False\n",
    "print(toppings)\n",
    "        "
   ]
  },
  {
   "cell_type": "code",
   "execution_count": 12,
   "metadata": {},
   "outputs": [],
   "source": [
    "# to avoid this entered quit"
   ]
  },
  {
   "cell_type": "code",
   "execution_count": 13,
   "metadata": {},
   "outputs": [
    {
     "name": "stdout",
     "output_type": "stream",
     "text": [
      "Enter your fav topping or quit:fajita\n",
      "Enter your fav topping or quit:cheeze\n",
      "Enter your fav topping or quit:extra cheeze\n",
      "Enter your fav topping or quit:quit\n",
      "['fajita', 'cheeze', 'extra cheeze']\n"
     ]
    }
   ],
   "source": [
    "toppings= []\n",
    "flag = True\n",
    "while flag:\n",
    "    topping=input(\"Enter your fav topping or quit:\")\n",
    "    if topping == 'quit':\n",
    "        flag = False\n",
    "    else:\n",
    "        toppings.append(topping)\n",
    "print(toppings)"
   ]
  },
  {
   "cell_type": "code",
   "execution_count": 15,
   "metadata": {},
   "outputs": [
    {
     "name": "stdout",
     "output_type": "stream",
     "text": [
      "['b', 'c', 'b']\n"
     ]
    }
   ],
   "source": [
    "letters= ['a', 'b', 'c', 'a', 'b', 'a']\n",
    "while 'a' in letters:\n",
    "    letters.remove('a')\n",
    "print(letters)"
   ]
  },
  {
   "cell_type": "code",
   "execution_count": 16,
   "metadata": {},
   "outputs": [
    {
     "name": "stdout",
     "output_type": "stream",
     "text": [
      "Enter your fav topping or quit:cheeze\n",
      "Enter your fav topping or quit:extra cheeze\n",
      "Enter your fav topping or quit:quit\n",
      "['cheeze', 'extra cheeze', 'quit']\n"
     ]
    }
   ],
   "source": [
    "toppings= []\n",
    "while True:\n",
    "    topping=input(\"Enter your fav topping or quit:\")\n",
    "    toppings.append(topping)\n",
    "    if topping == 'quit':\n",
    "        break\n",
    "print(toppings)"
   ]
  },
  {
   "cell_type": "code",
   "execution_count": null,
   "metadata": {},
   "outputs": [],
   "source": []
  },
  {
   "cell_type": "code",
   "execution_count": null,
   "metadata": {},
   "outputs": [],
   "source": []
  }
 ],
 "metadata": {
  "kernelspec": {
   "display_name": "Python 3",
   "language": "python",
   "name": "python3"
  },
  "language_info": {
   "codemirror_mode": {
    "name": "ipython",
    "version": 3
   },
   "file_extension": ".py",
   "mimetype": "text/x-python",
   "name": "python",
   "nbconvert_exporter": "python",
   "pygments_lexer": "ipython3",
   "version": "3.7.3"
  }
 },
 "nbformat": 4,
 "nbformat_minor": 2
}
